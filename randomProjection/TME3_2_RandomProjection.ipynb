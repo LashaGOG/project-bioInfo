{
 "cells": [
  {
   "cell_type": "markdown",
   "metadata": {
    "id": "981-NdKA_huf"
   },
   "source": [
    "# TME 3.2: Projet Detection de motifs\n",
    "\n",
    "Nom Etudiant 1: 28602815 Philippe TAN\n",
    "<br>\n",
    "Nom Etudiant 2: 28714617 Lasha GOGRITCHIANI\n",
    "\n",
    "## Recheche de pattern (motifs) en utilisant les algoritmes randomisés\n",
    "\n",
    "Les algorithmes randomisés prendre des décisions aléatoire plutôt que déterministes.\n",
    "l'algorithme s'exécute différemment à chaque fois. Ils sont couramment utilisés dans situations où aucun algorithme exact et rapide est connu. Nous allons d'abord implémenter l'algorithm random Projections.\n"
   ]
  },
  {
   "cell_type": "markdown",
   "metadata": {
    "id": "5z3a_1W0_huk"
   },
   "source": [
    "1\\.  Nous allons réutiliser les fonctions du precedent pour générer t séquences artificielles de taille n, et implanter dans chaque séquence un motif de taille k à des positions aléatoires avec v substitutions choisies aléatoirement. Nous allons faire varier le motifs dans 50% de cas."
   ]
  },
  {
   "cell_type": "code",
   "execution_count": 1,
   "metadata": {
    "id": "6UbcF5N2_hul"
   },
   "outputs": [],
   "source": [
    "import random\n",
    "import numpy as np\n",
    "\n",
    "nuc = ('A', 'C', 'G', 'T')\n",
    "\n",
    "t=5 #nombre de sequences\n",
    "v=1 #nb de positions variable dans le motif\n",
    "k=3 #taille du motif\n",
    "n=10 #longuer des sequence\n",
    "f=0.5 #frequence de variation du motif\n"
   ]
  },
  {
   "cell_type": "code",
   "execution_count": 2,
   "metadata": {
    "id": "IplKLaGL_hun"
   },
   "outputs": [
    {
     "name": "stdout",
     "output_type": "stream",
     "text": [
      "aat\n",
      "ACT\n",
      "['CAACTAAA', 'GACTCCGG', 'TAattGAC']\n",
      "['CAACTAAA', 'GACTCCGG', 'TAATTGAC']\n"
     ]
    }
   ],
   "source": [
    "def generateRandomSequence(n, upper=True):\n",
    "    \"\"\"\n",
    "    Génère une séquence nucléotidique aléatoire \n",
    "    entrée n : longueur de la sequence\n",
    "    entrée upper : bool, si True les nucléotides seront en majuscule, False minuscule\n",
    "    sortie sequence : une séquence nucléotidique aléatoire \n",
    "    \"\"\"\n",
    "    sequence = \"\"\n",
    "\n",
    "    random.seed(None)\n",
    "    for i in range (0, n) :\n",
    "        sequence += random.choice(nuc)\n",
    "    \n",
    "    if upper :\n",
    "        sequence.lower()\n",
    "   \n",
    "    return sequence\n",
    "\n",
    "def modifierMotif(motif, nbpos,  upper=True):\n",
    "    \"\"\"\n",
    "    Modifie nbpos positions d'un motif aléatoirement \n",
    "    entrée motif: motif à modifier\n",
    "    entrée nbpos: nombre de positions\n",
    "    entrée upper : bool, si True les nucléotides modifiés seront majuscule, False minuscule\n",
    "    sortie motifM: motif modifié\n",
    "    \"\"\"\n",
    "    motifM = list(motif)\n",
    "    motifM = [nt.upper() for nt in motifM]\n",
    "    \n",
    "    randpos = 0\n",
    "    randpositions = set()\n",
    "    mutation = \"\"\n",
    "    \n",
    "    i = 0\n",
    "    while (i < nbpos):\n",
    "        randpos = random.randint(0, len(motifM) - 1)\n",
    "        if randpos not in randpositions :\n",
    "            while (mutation == motifM[randpos] or mutation == \"\"):\n",
    "                mutation = random.choice(nuc)\n",
    "            motifM[randpos] = mutation\n",
    "            randpositions.add(randpos)\n",
    "            mutation = \"\"\n",
    "            i += 1\n",
    "    if upper :\n",
    "        motifM = [nt.lower() for nt in motifM]\n",
    "    \n",
    "    return \"\".join(motifM)\n",
    "\n",
    "#tester modifMotif\n",
    "print (modifierMotif(\"acg\", 2))\n",
    "\n",
    "def insertMotif(sequence, motif, position):\n",
    "    return sequence[:position] + motif + sequence[position:]\n",
    "\n",
    "def implantMotifVar(k, v, t, n, f):\n",
    "    \"\"\"\n",
    "    Génère des séquences aléatoires et les implante des motifs variables (un motif par séquence)\n",
    "    entrée k: taille du motif\n",
    "    entrée v: nombre de variations\n",
    "    entrée t : nombre de séquences \n",
    "    entrée n : longueur des séquences\n",
    "    entrée f : frequence de variation du motif.\n",
    "    sortie DNA : matrice de dimension txn avec les motifs implantés\n",
    "    REMARQUE : La taille totale des séquences plus motif doit être égal à t, pensez à générer de séquence aléatoire de taille t-k pour pouvoir implanter un motif de taille k\n",
    "    \"\"\"\n",
    "    #Création du motif de base\n",
    "    motif = generateRandomSequence(k, False)\n",
    "    print(motif)\n",
    "    sequences = []\n",
    "    \n",
    "    #Génère les séquences où implanter les motifs variables\n",
    "    sequences = [generateRandomSequence(n - t) for i in range(k)]\n",
    "\n",
    "    for i in range(k) :\n",
    "        #Variation du motif de v nucléotides\n",
    "        motifM = motif\n",
    "        if random.random() < f :\n",
    "            motifM = modifierMotif(motif, v)\n",
    "        #Position aléatoire dans les séquences où implanter le motif modifié\n",
    "        pos = random.randint(0, t - k)\n",
    "        sequences[i] = insertMotif(sequences[i], motifM, pos)\n",
    "    \n",
    "    return sequences\n",
    "\n",
    "adn = implantMotifVar(k, v, t, n, f)\n",
    "print (adn)\n",
    "\n",
    "adn  = [s.upper() for s in adn]\n",
    "print (adn)"
   ]
  },
  {
   "cell_type": "markdown",
   "metadata": {
    "id": "UO-2rHmt_hu3"
   },
   "source": [
    "2\\. Nous allons implémenter l'algorithme ``randomProjection``. D'abord, faites la fonction `getRandomFixePositions` pour générer une projection de p à k, voir un exemple dans les slides de cours. Faire aussi la fonction `generateKey` qui extrait les caractères du motif puis génère une cle qui représente la projection."
   ]
  },
  {
   "cell_type": "code",
   "execution_count": 3,
   "metadata": {
    "id": "72rT-OkS_hu3"
   },
   "outputs": [
    {
     "name": "stdout",
     "output_type": "stream",
     "text": [
      "[0, 1, 3, 6]\n"
     ]
    },
    {
     "data": {
      "text/plain": [
       "'0136'"
      ]
     },
     "execution_count": 3,
     "metadata": {},
     "output_type": "execute_result"
    }
   ],
   "source": [
    "def getRandomFixePositions(k, p):\n",
    "    \"\"\"\n",
    "    Genere une projection de p vers k\n",
    "    entrée p: nombre de positions choisi pour la projection \n",
    "    entrée k: nombre de positions du motif original\n",
    "    sortie projection: liste de positions choisi aléatoirement\n",
    "    \"\"\"\n",
    "    projection = []\n",
    "    count = 0\n",
    "    for i in range (p) :\n",
    "        rand = random.randint(0, k - 1)\n",
    "        while rand in projection :\n",
    "            rand = random.randint(0, k - 1)\n",
    "        projection.append(rand)\n",
    "        count += 1\n",
    "   \n",
    "    return projection\n",
    "\n",
    "lR = getRandomFixePositions(7, 4)\n",
    "lR.sort()\n",
    "print (lR)\n",
    "\n",
    "def generateKey(projection, motif):\n",
    "    \"\"\"\n",
    "    extrait les caractères du motif et génère la cle de la projection\n",
    "    entrée projection : liste de positions qui represent la projection\n",
    "    entrée motif : motif de taille k\n",
    "    sortie cle : cle de la projection\n",
    "    \"\"\"\n",
    "    cle = \"\"\n",
    "    \n",
    "    for i in projection :\n",
    "        cle += motif[i]\n",
    "    \n",
    "    return cle\n",
    "\n",
    "generateKey(lR, \"01234567\")"
   ]
  },
  {
   "cell_type": "markdown",
   "metadata": {
    "id": "NK0BhSs1_hu3"
   },
   "source": [
    "3\\. Implémenter l'algorithme ``randomProjection``. Bonnus : Pour ameliorer la performance vous pouvez abandonner les motifs de taille k peu complexes."
   ]
  },
  {
   "cell_type": "markdown",
   "metadata": {
    "id": "RWMsME8t_hu3"
   },
   "source": [
    "4\\. Avez vous trouvez le motif implanté? Rexécuter l’algorithme plusieurs fois pour augmenter les chances de le trouver. "
   ]
  },
  {
   "cell_type": "code",
   "execution_count": 9,
   "metadata": {
    "id": "yaDXNosb_hu3"
   },
   "outputs": [
    {
     "name": "stdout",
     "output_type": "stream",
     "text": [
      "{'TTAC': 1, 'TAAG': 1, 'AACG': 1, 'ACGC': 1, 'GCTA': 1, 'TCAG': 1, 'TACG': 1, 'ACCG': 1, 'CGGC': 1}\n",
      "{'TTAC': ['TTAACGG'], 'TAAG': ['TAACGGC'], 'AACG': ['AACGGCA'], 'ACGC': ['ACGGCAC'], 'GCTA': ['GCTCACG'], 'TCAG': ['TCACGCC'], 'TACG': ['TACCGGC'], 'ACCG': ['ACCGGCC'], 'CGGC': ['CGGCCGT']}\n"
     ]
    }
   ],
   "source": [
    "def isLowComplexe(motif, m) :\n",
    "    \"\"\"\n",
    "    Vérifie si le motif doit être éliminé en raison de sa simplicité,\n",
    "    c'est-à-dire s'il a au moins m fois la même lettre ou s'il a deux lettres\n",
    "    consécutives répétées.\n",
    "    entrée : motif\n",
    "    sortie : True si le motif doit être éliminé, False sinon\n",
    "    \"\"\"   \n",
    "    \n",
    "    if len(set(motif)) == 1 : #and len(motif) >= m: # si le motif contient une lettre m fois\n",
    "        return True\n",
    "\n",
    "    if len(set(motif)) >= 2 and len(motif) >= m :\n",
    "        nuc = {'A':0, 'C':0, 'T':0, 'G':0}\n",
    "        pairs = set()\n",
    "        impairs = set()\n",
    "        current = \"\"\n",
    "        cpt = 0\n",
    "        \n",
    "        for i, letter in enumerate(motif) : #enumerate pour récupérer le nucléotide et son index\n",
    "            nuc[letter] += 1\n",
    "            \n",
    "            if i%2 == 0 : #si lettre en position paire, on ajoute dans l'ensemble \"pairs\"\n",
    "                pairs.add(motif[i])\n",
    "            else : #sinon \"impairs\"\n",
    "                impairs.add(motif[i])\n",
    "                \n",
    "        nbvalues = nuc.values()\n",
    "        for i in nbvalues : #si on a au moins m occurrence d'un des nucléotides, alors le motif est SIMPLE\n",
    "            if i >= m :\n",
    "                return True\n",
    "        if len(pairs) == 1 and len(impairs) == 1 : #si on a un pattern de deux lettres qui se répètent : SIMPLE\n",
    "            return True\n",
    "    \n",
    "    return False\n",
    "\n",
    "def randomProjection(k, p, sequences):\n",
    "    \"\"\"\n",
    "    Implémente l'algorithme randomProjection\n",
    "    entrée k : taille du motif\n",
    "    entrée p : nombre de positions de la projection \n",
    "    entrée sequences : matrice de dimension txn contenant les séquences \n",
    "    sortie motifs : dictionaire, cle = projection, valeur= frequence\n",
    "    sortie motifsSeq:  dictionaire, cle = projection, valeur= original motif\n",
    "    \"\"\"\n",
    "    n = len(sequences[0])\n",
    "    motifs  = {}; motifsSeq  = {}\n",
    "    projections = getRandomFixePositions(k, p)\n",
    "    projections.sort()\n",
    "    \n",
    "    #threshold relatif à la taille du motif\n",
    "    #threshold = p // 2\n",
    "    #mais ici on le fixe à 3 parce qu'on travaille sur une projection de 4 nucléotides seulement\n",
    "    threshold = 3\n",
    "    \n",
    "    for seq in sequences:\n",
    "        for i in range(n - k + 1) :\n",
    "            seqisol = seq[i : i + k]\n",
    "            cle = generateKey(projections, seqisol)\n",
    "            if not isLowComplexe(cle, threshold) :\n",
    "                if cle in motifs :\n",
    "                    motifs[cle] += 1\n",
    "                else :\n",
    "                    motifs[cle] = 1\n",
    "                \n",
    "                if cle in motifsSeq :\n",
    "                    motifsSeq[cle].append(seqisol)\n",
    "                else :\n",
    "                    motifsSeq[cle] = [seqisol]\n",
    "                    \n",
    "    \n",
    "    return motifs, motifsSeq\n",
    "\n",
    "#motifsSort = sorted(motifs, reverse=True, key=motifs.get)\n",
    "\n",
    "adnTest = ['TTAACGGCAC', 'GCTCACGCCA', 'TACCGGCCGT']\n",
    "motifsProj, motifsSeq = randomProjection(7, 4, adnTest)\n",
    "print (motifsProj)\n",
    "print (motifsSeq)\n",
    "\n",
    "#motifsProj => {'TACG': 1, 'TCGC': 3, 'AGGA': 1, 'AGCC': 1, 'GCAG': 1, 'CACC': 1, 'CGCA': 1, 'AGGC': 1, 'CGCG': 1, 'CCCT': 1}\n",
    "#motifsSeq => {'TACG': ['TTAACGG'], 'TCGC': ['TAACGGC', 'TCACGCC', 'TACCGGC'], 'AGGA': ['AACGGCA'], 'AGCC': ['ACGGCAC'], 'GCAG': ['GCTCACG'], 'CACC': ['CTCACGC'], 'CGCA': ['CACGCCA'], 'AGGC': ['ACCGGCC'], 'CGCG': ['CCGGCCG'], 'CCCT': ['CGGCCGT']}"
   ]
  },
  {
   "cell_type": "markdown",
   "metadata": {
    "id": "gj5RGPey_hu4"
   },
   "source": [
    "reponse: "
   ]
  },
  {
   "cell_type": "markdown",
   "metadata": {
    "id": "1DHZjpi4_hu6"
   },
   "source": [
    "5\\. Implémenter la version itérative de l’algorithme ``randomProjection``. "
   ]
  },
  {
   "cell_type": "code",
   "execution_count": 10,
   "metadata": {
    "id": "ku5JseaVqagY"
   },
   "outputs": [],
   "source": [
    "\n",
    "#Construire matrice de fréquence\n",
    "def profile(motifs, k, nuc):\n",
    "    \"\"\"\n",
    "    Construire une matrice de fréquence de dimension |nuc|x k\n",
    "    entrée motifs: liste de motifs\n",
    "    entrée k: taille du motif\n",
    "    entrée nuc: alphabet\n",
    "    sortie MF: matrice de fréquence\n",
    "    \"\"\"\n",
    "    q = len(nuc)\n",
    "    PWM = np.zeros((q, k))\n",
    "    \n",
    "    for s in motifs :\n",
    "        for j in range(k) :\n",
    "            if len(s) < k :\n",
    "                continue\n",
    "            l = s[j]\n",
    "            if l == 'A':\n",
    "                PWM[0][j] += 1\n",
    "            if l == 'C':\n",
    "                PWM[1][j] += 1\n",
    "            if l == 'G':\n",
    "                PWM[2][j] += 1\n",
    "            if l == 'T':\n",
    "                PWM[3][j] += 1\n",
    "    \n",
    "    return PWM\n",
    "\n",
    "def getScore(MF, k):\n",
    "    \"\"\"\n",
    "    Renvoie le score de MF, la somme des max de chaque colonne\n",
    "    entrée MF: matrice de fréquence\n",
    "    entrée k: taille du motif\n",
    "    sortie sc: score\n",
    "    \"\"\"\n",
    "    sc = 0\n",
    "    \n",
    "    t = len(MF)\n",
    "    n = len(MF[0])\n",
    "    \n",
    "    for i in range(n) :\n",
    "        m = 0\n",
    "        for j in range(t) :\n",
    "            val = MF[j][i]\n",
    "            if val > m :\n",
    "                m = val\n",
    "        sc += m\n",
    "    \n",
    "    return sc"
   ]
  },
  {
   "cell_type": "code",
   "execution_count": 12,
   "metadata": {
    "id": "WkfqvtsT_hu6"
   },
   "outputs": [
    {
     "name": "stdout",
     "output_type": "stream",
     "text": [
      "20.0 ['ACGG', 'CGGC', 'GGCA', 'GCAC', 'CACG', 'ACGC', 'GCCA', 'GGCC', 'GCCG', 'CCGT']\n"
     ]
    }
   ],
   "source": [
    "def randomProjIt(sequences, k, p, nuc, It):\n",
    "    \"\"\"\n",
    "    Implémente l'algorithme randomProjection version iteractive\n",
    "    entrée sequences : matrice de dimension txn contenant les séquences \n",
    "    entrée k : nombre de positions du motif\n",
    "    entrée p : nombre de positions de la projection \n",
    "    entrée nuc : alphabet\n",
    "    entrée It: nombre d'iterations\n",
    "    sortie score : meilleur score\n",
    "    sortie motifs :  liste de motifs associés au meilleur score\n",
    "    \"\"\"\n",
    " \n",
    "    motifs = []; scores = 0\n",
    "    #dico = {}\n",
    "    \n",
    "    for i in range(It) :\n",
    "        motifsProj, motifsSeq = randomProjection(k, p, sequences)\n",
    "        listmotifs = list(motifsProj.keys())\n",
    "        prof = profile(listmotifs, p, nuc)\n",
    "        score = getScore(prof, p)\n",
    "        \n",
    "        #dico[score] = listmotifs\n",
    "        \n",
    "        if score > scores :\n",
    "            scores = score\n",
    "            motifs = listmotifs\n",
    "        \n",
    "    return scores, motifs\n",
    "#, dico\n",
    "\n",
    "score, seqsMotif = randomProjIt(adnTest, 7, 4, nuc, 100)\n",
    "\n",
    "print (score, seqsMotif)\n"
   ]
  },
  {
   "cell_type": "markdown",
   "metadata": {
    "id": "JeBaa7f1_hu6"
   },
   "source": [
    "6\\. Tester l'algorithme  ``randomProjection`` sur vos données de chipSeq. N'oubliez pas de chercher les motifs dans le brin complémentaire et faire un merge de résultats. Puis générér le LOGO du motif trouvé."
   ]
  },
  {
   "cell_type": "code",
   "execution_count": 13,
   "metadata": {
    "id": "TqwsXVV7_hu4"
   },
   "outputs": [],
   "source": [
    "def reverseComplement(seq):\n",
    "    seq_dict = {'A':'T','T':'A','G':'C','C':'G'}\n",
    "    return \"\".join([seq_dict[base] for base in reversed(seq)])\n",
    "\n",
    "def complement(seq):\n",
    "    seq_dict = {'A':'T','T':'A','G':'C','C':'G'}\n",
    "    return \"\".join([seq_dict[base] for base in seq])\n",
    "\n",
    "def printTopFMotifsFreq(motifs, m, rev=False):\n",
    "    motifsRet = {}\n",
    "    motifsSort = sorted(motifs, reverse=True, key=motifs.get)\n",
    "    i = 0\n",
    "    while (i < m):\n",
    "        motifPrint = motifsSort[i]\n",
    "        print (motifsSort[i])\n",
    "        if rev:\n",
    "            motifPrint = reverseComplement(motifsSort[i])\n",
    "        print (i, motifPrint, \"-\", motifs[motifsSort[i]])\n",
    "        i = i + 1\n",
    "        \n",
    "#printTopFMotifsFreq(motifs, 10)\n",
    "#print (motifsSeq['TCGC'])"
   ]
  },
  {
   "cell_type": "code",
   "execution_count": 14,
   "metadata": {
    "id": "_FVlr-KYtsQB"
   },
   "outputs": [
    {
     "name": "stdout",
     "output_type": "stream",
     "text": [
      "ATATTAGCTCATTGTATTAGCTTTGTATTAGCTCATGATTGACATGTATATTGGCACAATTTATATTAGCTCATAAAAAA 367 80 7\n",
      "192.0 ['GTAC', 'TACC', 'CCTG', 'CTGT', 'TGTA', 'GTAT', 'TATG', 'ATGC', 'TGCT', 'GCTT', 'TTGG', 'TGGC', 'GGCT', 'GCTG', 'CTGG', 'TGGT', 'TGTC', 'GTCG', 'TCGC', 'CGCA', 'GCAA', 'CAAG', 'GAGT', 'AGTA', 'ATTG', 'TTGA', 'TGAT', 'GATG', 'ATGA', 'TGCA', 'GCAG', 'CAGT', 'AGTG', 'GTTA', 'TAAT', 'AATC', 'ATCC', 'CTGA', 'TGAA', 'GAAC', 'AACC', 'ACCT', 'CCTT', 'CAGC', 'AGCT', 'GCTC', 'TCTG', 'GGCA', 'GCAC', 'ATGT', 'TACA', 'TCTA', 'CTAG', 'TAGA', 'GTAA', 'TAAC', 'AACT', 'ACTC', 'CTCG', 'TCGA', 'CGAA', 'AATT', 'ATTA', 'ATTC', 'CTAA', 'ACAG', 'ATCA', 'TCAT', 'CATA', 'GATC', 'ATAC', 'ACCG', 'CCGT', 'CGTG', 'GTGC', 'TGCC', 'CACG', 'ACGA', 'GAAT', 'TGAG', 'GAGC', 'AGCG', 'GCGT', 'CGTC', 'GTCT', 'CTTA', 'TTAA', 'AACG', 'CGAC', 'GACA', 'CAAT', 'AATG', 'TGAC', 'GACG', 'ACGC', 'GCCA', 'CCAG', 'CAGG', 'AGGC', 'GCAT', 'CATT', 'CGCT', 'CTCA', 'CAGA', 'GAAG', 'AGAT', 'GATA', 'ATAG', 'TAGC', 'AGCC', 'GCCT', 'CCTA', 'CTAT', 'TAAG', 'TAGG', 'GGCC', 'GCCG', 'CCGG', 'CGGT', 'GGTA', 'CCGA', 'GACT', 'ACTA', 'TATC', 'CATC', 'ATCT', 'TTAC', 'AGGT', 'GTGA', 'ACCA', 'CCAA', 'CTTC', 'TTAG', 'AGTT', 'TCCA', 'AGAC', 'AAGG', 'AGGA', 'TTCA', 'TCAG', 'AAGT', 'TTCC', 'TCCG', 'CGTA', 'CAAC', 'TAGT', 'AGTC', 'ATCG', 'CATG', 'ACTG', 'TGGA', 'GGAC', 'TCAC', 'TCAA', 'TCGT', 'GGAT', 'CTAC', 'GCGA', 'CGAT', 'GATT', 'AGCA', 'ACAT', 'TCCT', 'GCTA', 'AAGC', 'CTGC', 'CTTG', 'ACGT', 'ATGG', 'GTCA', 'CACT', 'ACTT', 'GTTC', 'TTCG', 'TACT', 'TTGC', 'ACGG', 'CCAT', 'GTCC', 'GGAA', 'GTTG', 'CGTT', 'TACG', 'GGTT', 'CGAG', 'GACC', 'CGGC', 'TCGG', 'TGCG', 'GTAG', 'CGGA', 'GGTC']\n"
     ]
    }
   ],
   "source": [
    "k=7; p=4; n=80\n",
    "\n",
    "def readFasta(genome, n):\n",
    "    sequence = []\n",
    "    file = open(genome, \"r\")\n",
    "    sequence = []\n",
    "    for s in file:\n",
    "        if s[0] != \">\":\n",
    "            sequence.append(s.strip().upper())\n",
    "    sequenceStr = \"\".join(sequence)\n",
    "    #sequence = [sequenceStr]\n",
    "    sequence = [sequenceStr[i:i+n] for i in range(0, len(sequenceStr), n)]\n",
    "    sequenceRet = [x for x in sequence if x]\n",
    "    return sequenceRet\n",
    "\n",
    "genome = \"Sequence_by_Peaks_4.fasta\"\n",
    "\n",
    "sequencesChip   = readFasta(genome, n)\n",
    "t = len(sequencesChip)\n",
    "print (sequencesChip[8], t, n, k)\n",
    "revSequences = [reverseComplement(m) for m in sequencesChip]\n",
    "\n",
    "sequences = sequencesChip + revSequences\n",
    "sequencesRet = [x for x in sequencesChip if len(x) == n]\n",
    "\n",
    "score, seqsMotif = randomProjIt(sequencesRet, k, p, nuc, 100)\n",
    "print(score, seqsMotif)"
   ]
  },
  {
   "cell_type": "code",
   "execution_count": null,
   "metadata": {},
   "outputs": [],
   "source": []
  }
 ],
 "metadata": {
  "celltoolbar": "Raw Cell Format",
  "colab": {
   "provenance": []
  },
  "kernelspec": {
   "display_name": "Python 3 (ipykernel)",
   "language": "python",
   "name": "python3"
  },
  "language_info": {
   "codemirror_mode": {
    "name": "ipython",
    "version": 3
   },
   "file_extension": ".py",
   "mimetype": "text/x-python",
   "name": "python",
   "nbconvert_exporter": "python",
   "pygments_lexer": "ipython3",
   "version": "3.11.0"
  }
 },
 "nbformat": 4,
 "nbformat_minor": 1
}
