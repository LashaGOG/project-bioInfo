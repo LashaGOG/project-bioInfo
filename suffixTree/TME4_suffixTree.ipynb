{
 "cells": [
  {
   "cell_type": "markdown",
   "metadata": {
    "id": "lRIv7xNV0nf9"
   },
   "source": [
    "# TME 4 : Suffix Trees\n",
    "\n",
    "\n",
    "## Recheche de pattern (motifs) en utilisant les suffix trees\n",
    "\n",
    "Nous allons utiliser l'algorithme suffix-tree pour une recherche rapide et éfficace de motifs. Un suffix-tree est construit à partir d'un jeux de séquences, ensuite nous pouvons rechercher le motif en temps O(k) où k est la longueur du motif."
   ]
  },
  {
   "cell_type": "markdown",
   "metadata": {
    "id": "p2zEyqSq0nf_"
   },
   "source": [
    "1\\. Nous allons réutiliser les fonctions du TMEs precedents pour générer ``t`` séquences artificielles de taille ``n``, et implanter dans chaque séquence un motif de taille ``k`` à des positions aléatoires avec ``v`` substitutions choisies aléatoirement. Cependant, les ``t`` séquences artificielles initiales (sans implantation) ainsi que le motif initial (sans variation/mutation) doivent être générées une seule fois. Ensuite, selon chaque question, nous introduisons des différentes variation au motif initial et les implantons dans les séquences initiales afin de générer des nouveau jeux de données. "
   ]
  },
  {
   "cell_type": "code",
   "execution_count": 1,
   "metadata": {
    "id": "VagWKovI0ngA"
   },
   "outputs": [],
   "source": [
    "import random\n",
    "import numpy as np\n",
    "\n",
    "nuc = ('A', 'C', 'G', 'T')\n",
    "\n",
    "t=8 #taille de motif\n",
    "v=0 #nb de positions variables dans le motif\n",
    "k=5 #nb de sequences\n",
    "n=100 #longuer des sequence\n",
    "f=0.9\n"
   ]
  },
  {
   "cell_type": "markdown",
   "metadata": {
    "id": "N39jNZyt0ngC"
   },
   "source": [
    "1.1\\. Generer les séquences artificielles initiales et implanter un motif (sans variation, v=0)"
   ]
  },
  {
   "cell_type": "code",
   "execution_count": 2,
   "metadata": {
    "id": "3Vgz0SW71WtP"
   },
   "outputs": [
    {
     "name": "stdout",
     "output_type": "stream",
     "text": [
      "GGACGCAT\n",
      "['AAGGTCGTTGGAGGAATTCAACggacgcatTCATGTCCGCCAACAAGCCCGTTTAGTTTGTTTTTGCCTATCTCGTTGACACCGCGTCTCCTCACCAGAC', 'CCACAGCCGACAggacgcatTGCACCTTCCTCGATCAAGGATGATGGGAATAACAGACGGGTCATCCAAAGTCTCATATGTATTTCCAATACGATAGTAG', 'CCGTGCGTCTTTGTTTCGAGCATATGggacgcatTCGAGGCAGAACCGAGGCGAACGGATAGCTGTCCGAATGGATGCAGTCGCTTCCTTCGGCATTGAT', 'GAGTggacgcatATATGAATTCGTAGACCACGGTCGAGGACCTTCAGTTGGAATGCATACAACACCCTTTAGCTTGCCGAGTTTCCGACCATAGCAATTT', 'GCTAACAACTAACCCTATCGTATAGCCCTTggacgcatATTAGGAATCAAACACAGCACAGGGACTCCGTCTAATTGAACAAGTCCTTGCCGCACATGTA']\n",
      "['AAGGTCGTTGGAGGAATTCAACGGACGCATTCATGTCCGCCAACAAGCCCGTTTAGTTTGTTTTTGCCTATCTCGTTGACACCGCGTCTCCTCACCAGAC', 'CCACAGCCGACAGGACGCATTGCACCTTCCTCGATCAAGGATGATGGGAATAACAGACGGGTCATCCAAAGTCTCATATGTATTTCCAATACGATAGTAG', 'CCGTGCGTCTTTGTTTCGAGCATATGGGACGCATTCGAGGCAGAACCGAGGCGAACGGATAGCTGTCCGAATGGATGCAGTCGCTTCCTTCGGCATTGAT', 'GAGTGGACGCATATATGAATTCGTAGACCACGGTCGAGGACCTTCAGTTGGAATGCATACAACACCCTTTAGCTTGCCGAGTTTCCGACCATAGCAATTT', 'GCTAACAACTAACCCTATCGTATAGCCCTTGGACGCATATTAGGAATCAAACACAGCACAGGGACTCCGTCTAATTGAACAAGTCCTTGCCGCACATGTA']\n"
     ]
    }
   ],
   "source": [
    "\n",
    "def generateRandomSequence(n, upper=True):\n",
    "    \"\"\"\n",
    "    Génère une séquence nucléotidique aléatoire \n",
    "    entrée n : longueur de la sequence\n",
    "    entrée upper : bool, si True les nucléotides seront en majuscule, False minuscule\n",
    "    sortie sequence : une séquence nucléotidique aléatoire \n",
    "    \"\"\"\n",
    "    sequence = \"\"\n",
    "   \n",
    "    random.seed(None)\n",
    "    for i in range (0, n) :\n",
    "        sequence += random.choice(nuc)\n",
    "    \n",
    "    if upper :\n",
    "        sequence.lower()\n",
    "    return sequence\n",
    "\n",
    "def modifierMotif(motif, nbpos,  upper=True):\n",
    "    \"\"\"\n",
    "    Modifie nbpos positions d'un motif aléatoirement \n",
    "    entrée motif: motif à modifier\n",
    "    entrée nbpos: nombre de positions\n",
    "    entrée upper : bool, si True les nucléotides modifiés seront majuscule, False minuscule\n",
    "    sortie motifM: motif modifié\n",
    "    \"\"\"\n",
    "    motifM = list(motif)\n",
    "    motifM = [nt.upper() for nt in motifM]\n",
    "    \n",
    "    randpos = 0\n",
    "    randpositions = set()\n",
    "    mutation = \"\"\n",
    "    \n",
    "    i = 0\n",
    "    while (i < nbpos):\n",
    "        randpos = random.randint(0, len(motifM) - 1)\n",
    "        if randpos not in randpositions :\n",
    "            while (mutation == motifM[randpos] or mutation == \"\"):\n",
    "                mutation = random.choice(nuc)\n",
    "            motifM[randpos] = mutation\n",
    "            randpositions.add(randpos)\n",
    "            mutation = \"\"\n",
    "            i += 1\n",
    "    if upper :\n",
    "        motifM = [nt.lower() for nt in motifM]\n",
    "   \n",
    "    return \"\".join(motifM)\n",
    "\n",
    "#print (modifierMotif(\"acgtacgtacgt\", 3))\n",
    "\n",
    "def insertMotif(sequence, motif, position):\n",
    "    return sequence[:position] + motif + sequence[position:]\n",
    "\n",
    "\n",
    "def implantMotifVar(k, v, t, n, f):\n",
    "    \"\"\"\n",
    "    Génère des séquences aléatoires et les implante des motifs variables (un motif par séquence)\n",
    "    entrée k: taille du motif\n",
    "    entrée v: nombre de variations\n",
    "    entrée t : nombre de séquences \n",
    "    entrée n : longueur des séquences\n",
    "    entrée f : frequence de variation du motif.\n",
    "    sortie DNA : matrice de dimension txn avec les motifs implantés\n",
    "    REMARQUE : La taille totale des séquences plus motif doit être égal à t, pensez à générer de séquence aléatoire de taille t-k pour pouvoir implanter un motif de taille k\n",
    "    \"\"\"\n",
    "   \n",
    "    #Création du motif de base\n",
    "    motif = generateRandomSequence(t, False)\n",
    "    print(motif)\n",
    "    sequences = []\n",
    "    \n",
    "    #Génère les séquences où implanter les motifs variables\n",
    "    sequences = [generateRandomSequence(n - t) for i in range(k)]\n",
    "\n",
    "    for i in range(k) :\n",
    "        #Variation du motif de v nucléotides\n",
    "        motifM = motif\n",
    "        if random.random() < f :\n",
    "            motifM = modifierMotif(motif, v)\n",
    "        #Position aléatoire dans les séquences où implanter le motif modifié\n",
    "        pos = random.randint(0, n - t)\n",
    "        sequences[i] = insertMotif(sequences[i], motifM, pos)\n",
    "    \n",
    "    return sequences\n",
    "\n",
    "adn = implantMotifVar(k, v, t, n, f)\n",
    "print (adn)\n",
    "\n",
    "adn  = [s.upper() for s in adn]\n",
    "print (adn)"
   ]
  },
  {
   "cell_type": "markdown",
   "metadata": {
    "id": "u27bZ9zV0ngE"
   },
   "source": [
    "2\\. Définissez une fonction ``construct_tree`` pour construire un suffix tree à partir des séquences artificielles (après implantation) en utilisant le python package suffix-trees trouvable ici: https://pypi.org/project/suffix-trees/. Tester si votre fonction est capable de trouver le motif sans variation implanté."
   ]
  },
  {
   "cell_type": "code",
   "execution_count": 3,
   "metadata": {
    "id": "sDeaGF8V11ew"
   },
   "outputs": [
    {
     "name": "stdout",
     "output_type": "stream",
     "text": [
      "Requirement already satisfied: suffix-trees in c:\\python311\\lib\\site-packages (0.3.0)\n"
     ]
    },
    {
     "name": "stderr",
     "output_type": "stream",
     "text": [
      "\n",
      "[notice] A new release of pip is available: 23.0 -> 23.0.1\n",
      "[notice] To update, run: python.exe -m pip install --upgrade pip\n"
     ]
    }
   ],
   "source": [
    "!pip install suffix-trees"
   ]
  },
  {
   "cell_type": "code",
   "execution_count": 4,
   "metadata": {
    "id": "BDYzYIcY0ngF"
   },
   "outputs": [
    {
     "name": "stdout",
     "output_type": "stream",
     "text": [
      "0\n",
      "{0}\n",
      "{}\n",
      "{}\n",
      "GGACGCAT\n"
     ]
    }
   ],
   "source": [
    "from suffix_trees import STree\n",
    "\n",
    "st = STree.STree(\"abcdefghab\")\n",
    "print(st.find(\"ab\")) # 0\n",
    "print(st.find_all(\"abc\")) # [0, 8]\n",
    "\n",
    "def construct_tree(sequences):\n",
    "    \"\"\"\n",
    "    construire un abre de suffixe\n",
    "    entrée1 : matrice de dimension txn avec les sequences\n",
    "    sortie1 : arbre de suffixe\n",
    "    REMARK: Vous devez concatener toutes les sequences de la matrice avant d'appeller la fonction STree\n",
    "    \"\"\"\n",
    "    text = ''\n",
    "    for i in sequences :\n",
    "        text += i + \" \"\n",
    "    st = STree.STree(text)\n",
    "    st2 = STree.STree(sequences)\n",
    "    return st, st2\n",
    "\n",
    "tree, tree2 = construct_tree(adn)\n",
    "\n",
    "fix_motif = 'AGGCCAGT'\n",
    "print(tree.find_all(fix_motif))\n",
    "print(tree2.find_all(fix_motif))\n",
    "\n",
    "print(tree2.lcs())\n",
    "#print(tree.lcs())\n",
    "\n"
   ]
  },
  {
   "cell_type": "markdown",
   "metadata": {
    "id": "rdSlwIl00ngH"
   },
   "source": [
    "3\\. Avant de chercher les motifs, implémentez ou reutilisez les fonctions pour générer tous les motifs (k-mer) possibles de taille k, en éliminant les motifs peu complexe pour éviter les calculs inutiles."
   ]
  },
  {
   "cell_type": "code",
   "execution_count": 5,
   "metadata": {
    "id": "3uxo3Y6j0ngI"
   },
   "outputs": [
    {
     "name": "stdout",
     "output_type": "stream",
     "text": [
      "1024\n",
      "1008\n",
      "AAAAC\n"
     ]
    }
   ],
   "source": [
    "def kmerList(allkmers):\n",
    "    validKmers = []\n",
    "    for i in allkmers:\n",
    "        kmer = \"\".join(i)\n",
    "        validKmers.append(kmer)\n",
    "    return validKmers\n",
    "\n",
    "def isLowComplexe(motif, m) :\n",
    "    \"\"\"\n",
    "    Vérifie si le motif doit être éliminé en raison de sa simplicité,\n",
    "    c'est-à-dire s'il a au moins m fois la même lettre ou s'il a deux lettres\n",
    "    consécutives répétées.\n",
    "    entrée : motif\n",
    "    sortie : True si le motif doit être éliminé, False sinon\n",
    "    \"\"\"   \n",
    "    \n",
    "    if len(set(motif)) == 1 and len(motif) >= m: # si le motif contient une lettre m fois\n",
    "        return True\n",
    "\n",
    "    if len(set(motif)) >= 2 and len(motif) >= m :\n",
    "        nuc = {'A':0, 'C':0, 'T':0, 'G':0}\n",
    "        pairs = set()\n",
    "        impairs = set()\n",
    "        current = \"\"\n",
    "        cpt = 0\n",
    "        \n",
    "        for i, letter in enumerate(motif) : #enumerate pour récupérer le nucléotide et son index\n",
    "            nuc[letter] += 1\n",
    "            \n",
    "            if i%2 == 0 : #si lettre en position paire, on ajoute dans l'ensemble \"pairs\"\n",
    "                pairs.add(motif[i])\n",
    "            else : #sinon \"impairs\"\n",
    "                impairs.add(motif[i])\n",
    "                \n",
    "        nbvalues = nuc.values()\n",
    "        for i in nbvalues : #si on a au moins m occurrence d'un des nucléotides, alors le motif est SIMPLE\n",
    "            if i >= m :\n",
    "                return True\n",
    "        if len(pairs) == 1 and len(impairs) == 1 : #si on a un pattern de deux lettres qui se répètent : SIMPLE\n",
    "            return True\n",
    "    \n",
    "    return False\n",
    "\n",
    "\n",
    "def removeLowComplexe(motifs, minrep):\n",
    "    validMotif = []\n",
    "    \n",
    "    for i in motifs :\n",
    "        if not isLowComplexe(i, minrep) :\n",
    "            validMotif.append(i)\n",
    " \n",
    "    return validMotif\n",
    "\n",
    "\n",
    "from itertools import product\n",
    "allkmers = product(nuc, repeat=k)\n",
    "kmers = kmerList(allkmers)\n",
    "\n",
    "print (len(kmers))\n",
    "kmersValid = removeLowComplexe(kmers, 5)\n",
    "print (len(kmersValid))\n",
    "print (kmersValid[0])\n",
    "\n",
    "#kmersValid = removeLowComplexePair(kmersValid)\n",
    "#print (len(kmersValid))"
   ]
  },
  {
   "cell_type": "markdown",
   "metadata": {
    "id": "AhKHuWkE0ngK"
   },
   "source": [
    "4\\. **Exact matching:** Définissez la fonction ``exact_match`` qui cherche dans le suffix tree tous les motifs possibles (k-mers), générés à la question precedent. La fonction renvoie un dictionnaire qui contient les motifs (clés) et leurs nombre d'occurrence (valeurs). Ce dictionnaire doit être trié par nombre d'occurrences. \n",
    "\n",
    "Ensuite, trouvez et affichez les 10 motifs plus fréquents dans notre jeux de données artificiels."
   ]
  },
  {
   "cell_type": "code",
   "execution_count": 6,
   "metadata": {
    "id": "pUmfblsq0ngL"
   },
   "outputs": [
    {
     "name": "stdout",
     "output_type": "stream",
     "text": [
      "VRAI : motif_occur_sorted == motif_occur_sorted2\n",
      "\n",
      "{'ACGCA': 5, 'CGCAT': 5, 'GACGC': 5, 'GGACG': 5, 'CATAT': 4, 'GCATA': 4, 'GCATT': 4, 'GGAAT': 4, 'AACAA': 3, 'ATAGC': 3}\n",
      "{'ACGCA': 5, 'CGCAT': 5, 'GACGC': 5, 'GGACG': 5, 'CATAT': 4, 'GCATA': 4, 'GCATT': 4, 'GGAAT': 4, 'AACAA': 3, 'ATAGC': 3}\n"
     ]
    }
   ],
   "source": [
    "def exact_match(kmersV, stree, stree2):\n",
    "    \"\"\"\n",
    "    Cherche dans le suffix tree tous les motifs possibles\n",
    "    entrée1 kmersV: Liste de Kmers à chercher\n",
    "    entrée2 stree: suffix tree\n",
    "    sortie1 motif_occur_sorted: dictionnaire qui contient les motifs (clés) et leurs nombre d'occurrences (values).\n",
    "    \"\"\"\n",
    "    motif_occur_sorted = {}\n",
    "    motif_occur_sorted2 = {}\n",
    "    \n",
    "    for i in kmersV :\n",
    "        motif_occur_sorted[i] = len(stree.find_all(i))\n",
    "        motif_occur_sorted2[i] = len(stree2.find_all(i))\n",
    "    \n",
    "    motif_occur_sorted = dict(sorted(motif_occur_sorted.items(), key = lambda item : item[1], reverse = True))   \n",
    "    motif_occur_sorted2 = dict(sorted(motif_occur_sorted2.items(), key = lambda item : item[1], reverse = True))\n",
    "\n",
    "    if (motif_occur_sorted == motif_occur_sorted2) :\n",
    "        print(\"VRAI : motif_occur_sorted == motif_occur_sorted2\\n\")\n",
    "    \n",
    "    return motif_occur_sorted, motif_occur_sorted2\n",
    "\n",
    "st, st2 = construct_tree(adn)\n",
    "motif_occur_sorted, motif_occur_sorted2 = exact_match(kmersValid, st, st2)\n",
    "\n",
    "def getTopMotifs(motifs:dict(), top:int):\n",
    "    \"\"\"\n",
    "    renvoyer les top motifs le plus frequent\n",
    "    entrée motifs: dictionnaire de motifs, clé=motif, valeur = fréquence d'observation\n",
    "    entrée top : les top plus frequent \n",
    "    sortie motifsfreq: dictionnaire contenant les top motifs les plus fréquents, clé=motif, valeur = fréquence d'observation\n",
    "    \"\"\"\n",
    "    motifsfreq  = {}\n",
    "    \n",
    "    sortedfreqs = sorted(motifs, reverse = True, key = motifs.get)\n",
    "    for i in range (top) :\n",
    "        mot = sortedfreqs[i]\n",
    "        motifsfreq[mot] = motifs[mot]\n",
    "   \n",
    "    return motifsfreq\n",
    "\n",
    "print(getTopMotifs(motif_occur_sorted, 10))\n",
    "print(getTopMotifs(motif_occur_sorted2, 10))"
   ]
  },
  {
   "cell_type": "markdown",
   "metadata": {
    "id": "HrSnp3Q70ngM"
   },
   "source": [
    "5\\. Introduisez deux variation (v=2) au motif initial. Pour cela avant de chaque implantation, créez d'abord un motif varié (avec v substitutions choisies aléatoirement) à partir du motif initial et puis implantez-le dans une séquence. Repetez pour chaque sequence dans le Jeux de donnée. Il suffit de mettre ``v`` égal ``2`` et réutiliser les fonctions définies à la question 1."
   ]
  },
  {
   "cell_type": "code",
   "execution_count": 7,
   "metadata": {
    "id": "OqVEMgjW0ngN",
    "scrolled": true
   },
   "outputs": [
    {
     "name": "stdout",
     "output_type": "stream",
     "text": [
      "GGAGGGAA\n",
      "['CAGGTAGTCACGTAGGGGAGACCTATATGGATTTGCTTGACTATCGGTTATTCCCTGGACAATTCGGCAGTACCCAAAGCCCGTAAATTATT', 'CAGCATTCGATGAATACAAAAGAAAGCCCTATGTCTAAACTCCTCTATGGGCTCTTTGTGTCATGGTCTTTGCTACGTGCCGGCGTCAATGT', 'GCCGGTAGGGGATAAGAACCCCAGAGACTATTGATGGAACCCAACGCGCTACTCACGCGGAGTTGAGGGACTACCAGCAGGGACCACAGACT', 'CATACTGGTCACCCGAACGACTTAAAATATCATCGGGATGATCTACCAAAACTGCCAATAGTACCACAGGCCTAGTTCACCACGCTTAGTGG', 'CGATTATGGCAGAAGCCGTCGAACGCCTAAGCTTCAGCTCCGGGTCCCTTCCAGTACGGTCATTTAGATCGCTCCAAATCATGACAGGCGTA']\n",
      "['CAGGTAGTCACGTAGGGGAGACCTATATGGATTTGCTTGACTATCGGTTATTCCCTGGGAGGGAAGACAATTCGGCAGTACCCAAAGCCCGTAAATTATT', 'CAGCATTCGATGAATACAAAAGAAAGCCCTATGTCTAAACTCCTCTATGGGCTCTTTGTGTCATGTTAGGGAAGTCTTTGCTACGTGCCGGCGTCAATGT', 'GCCGGTAGGGGATAAGAACCCCAGAGACTATTGATGGAACCCAACGCGCTACTCACGCGGAGTTGAGGGACTACCAGCAGGGACCACGTAGCGAAAGACT', 'CATACTGGTCACCGAAGGGGACGAACGACTTAAAATATCATCGGGATGATCTACCAAAACTGCCAATAGTACCACAGGCCTAGTTCACCACGCTTAGTGG', 'CGATTGGCTGGAAATGGCAGAAGCCGTCGAACGCCTAAGCTTCAGCTCCGGGTCCCTTCCAGTACGGTCATTTAGATCGCTCCAAATCATGACAGGCGTA']\n"
     ]
    }
   ],
   "source": [
    "def implantMotif(k, v, t, n, f):\n",
    "    \"\"\"\n",
    "    Génère des séquences aléatoires et les implante des motifs variables (un motif par séquence)\n",
    "    entrée k: taille du motif\n",
    "    entrée v: nombre de variations\n",
    "    entrée t : nombre de séquences \n",
    "    entrée n : longueur des séquences\n",
    "    entrée f : frequence de variation du motif.\n",
    "    sortie DNA : matrice de dimension txn avec les motifs implantés\n",
    "    REMARQUE : La taille totale des séquences plus motif doit être égal à t, pensez à générer de séquence aléatoire de taille t-k pour pouvoir implanter un motif de taille k\n",
    "    \"\"\"\n",
    "   \n",
    "    #Création du motif de base\n",
    "    motif = generateRandomSequence(t, False)\n",
    "    #print(motif)\n",
    "    sequences = []\n",
    "    seqOri = []\n",
    "    \n",
    "    #Génère les séquences où implanter les motifs variables\n",
    "    sequences = [generateRandomSequence(n - t) for i in range(k)]\n",
    "    for i in sequences :\n",
    "        seqOri.append(i)  \n",
    "\n",
    "    for i in range(k) :\n",
    "        #Variation du motif de v nucléotides\n",
    "        motifM = motif\n",
    "        if random.random() < f :\n",
    "            motifM = modifierMotif(motif, v)\n",
    "        #Position aléatoire dans les séquences où implanter le motif modifié\n",
    "        pos = random.randint(0, n - t)\n",
    "        sequences[i] = insertMotif(sequences[i], motifM, pos)\n",
    "    \n",
    "    return seqOri, sequences, motif\n",
    "\n",
    "v = 2\n",
    "\n",
    "adnOri, adn,  fix_motif = implantMotif(k, v, t, n, f)\n",
    "\n",
    "print(fix_motif)\n",
    "print(adnOri)\n",
    "\n",
    "adn  = [s.upper() for s in adn]\n",
    "print(adn)"
   ]
  },
  {
   "cell_type": "markdown",
   "metadata": {
    "id": "1RGyKcwP0ngN"
   },
   "source": [
    "6\\. Construisez le suffix tree à nouveau à partir des nouvelles séquences en utilisant le python package suffix-trees."
   ]
  },
  {
   "cell_type": "code",
   "execution_count": 8,
   "metadata": {
    "id": "xN70Hhtt0ngO"
   },
   "outputs": [
    {
     "name": "stdout",
     "output_type": "stream",
     "text": [
      "CAG\n",
      "{}\n"
     ]
    }
   ],
   "source": [
    "st, st2 = construct_tree(adn)\n",
    "#print(st.lcs())\n",
    "print(st2.lcs())\n",
    "print(st2.find_all(\"CCCCTTCG\"))"
   ]
  },
  {
   "cell_type": "markdown",
   "metadata": {
    "id": "ZVbMQGFX0ngO"
   },
   "source": [
    "7\\. **Inexact matching:** \n",
    "\n",
    "Définissez fonction ``inexact_match`` qui cherche tous les motifs possibles (k-mers) générés à la question 2 dans le nouveau suffix tree donné (construit à partir des nouvelle séquences qui incluent le motif varié), et renvoie un dictionnaire qui contient les motifs (keys) et les listes de toutes leurs variations (values) ainsi que le meilleur motif variable. Il faut que vous utilisiez la technique *seed* pour trouver le motif variable. \n",
    "\n",
    "Ensuite, affichez le meilleur motif variable avec toutes son variation dans notre nouveaux jeux de données artificiels.\n",
    "***Transformer en deux fonction separer, une pour for motif et autre for seed***"
   ]
  },
  {
   "cell_type": "code",
   "execution_count": 9,
   "metadata": {
    "id": "P9Zg_PCh0ngO"
   },
   "outputs": [
    {
     "name": "stdout",
     "output_type": "stream",
     "text": [
      "GGAGGGAA\n",
      "{'GTAGGGGA': 2, 'GGAGGGAA': 1, 'GTAGCGAA': 1}\n"
     ]
    }
   ],
   "source": [
    "def hamdist(str1:str, str2:str):\n",
    "    \"\"\"\n",
    "    Calcul la distance de hamming entre deux chaînes de caractères\n",
    "    entrée str1: chaîne de caractères\n",
    "    entrée str2: chaîne de caractères\n",
    "    sortie distance: distance de hamming\n",
    "    \"\"\"\n",
    "    diffs = 0\n",
    "    \n",
    "    if len(str1) != len(str2) :\n",
    "        raise ValueError(\"Les deux chaînes de caractères n'ont pas la même longueur\")\n",
    "\n",
    "    for i in range(len(str1)) :\n",
    "        if str1[i] != str2[i] :\n",
    "            diffs += 1\n",
    "    \n",
    "    return diffs\n",
    "\n",
    "def inexact_match(kmersV, sequences, stree, v):\n",
    "    \"\"\"\n",
    "    cherche de motif variables dans un suffix tree\n",
    "    entrée1 kmersV: liste de motifs à chercher\n",
    "    entrée2 sequences: matrice de dimension txn avec les sequences\n",
    "    entrée3 stree: suffix Tree\n",
    "    entrée4 v: nombre de variations dans le motifs\n",
    "    sortie1 motif_occur_sorted: dictionnaire clés=sequence consensus des motifs; value= nombre d'occurrences.\n",
    "    \"\"\"\n",
    "    motif_occur_sorted = {}\n",
    "    allCandidates = []\n",
    "    \n",
    "    ns = v + 1\n",
    "    for kmer in kmersV :\n",
    "        for seq in sequences :\n",
    "            k = len(kmer)\n",
    "            ls = round(k/ns)\n",
    "            j = 0\n",
    "            for i in range(ns) :\n",
    "                seed = kmer[i * ls : i * ls + ls]\n",
    "                candidateIndex = stree.find_all(seed)\n",
    "                for index in candidateIndex :\n",
    "                    candidateText = seq[index - i * ls : index + k - i * ls]\n",
    "                    if len(candidateText) == k and hamdist(kmer, candidateText) <= v :\n",
    "                        motif_occur_sorted[candidateText] = len(stree.find_all(candidateText))\n",
    "                        \n",
    "    motif_occur_sorted = dict(sorted(motif_occur_sorted.items(), key = lambda item : item[1], reverse = True))\n",
    "    \n",
    "    return motif_occur_sorted\n",
    "\n",
    "#Test\n",
    "#seqTest = \"banananabanbnaabanbna\"\n",
    "#st, st2 = construct_tree([seqTest])\n",
    "#k=6\n",
    "#motif_occur_sorted = inexact_match(['banbna'], [seqTest], st2, 1)\n",
    "#print(motif_occur_sorted)\n",
    "\n",
    "st, st2 = construct_tree(adn)\n",
    "motif_occur_sorted = inexact_match([fix_motif], adn, st2, 2)\n",
    "print(fix_motif)\n",
    "print(motif_occur_sorted)\n"
   ]
  },
  {
   "cell_type": "markdown",
   "metadata": {
    "id": "5ABb0l6D0ngQ"
   },
   "source": [
    "8\\. Créez le motif logo à partir des séquences du meilleur motif variable que vouz venez de trouver. Vous pouvez utilizer ce site: https://weblogo.berkeley.edu/logo.cgi. Affichez votre logo ci-dessous."
   ]
  },
  {
   "cell_type": "markdown",
   "metadata": {
    "id": "tXYeF8IY0ngQ"
   },
   "source": []
  },
  {
   "cell_type": "markdown",
   "metadata": {
    "id": "IJ1qE29o0ngP"
   },
   "source": [
    "https://weblogo.berkeley.edu/cache/fileZETyF8.png"
   ]
  },
  {
   "cell_type": "markdown",
   "metadata": {
    "id": "acxgFV6b0ngQ"
   },
   "source": [
    "9\\. Avez-vous réussi à trouver votre motif initial implanté en séquences? l'algorithme était-il rapide? Quelle est la complexité de chaque recherche de motif?"
   ]
  },
  {
   "cell_type": "markdown",
   "metadata": {
    "id": "XZZ_TLV9ePVF"
   },
   "source": [
    "Oui, on le retrouve une fois. L'algorithme a pris moins de 1 dizième de seconde."
   ]
  },
  {
   "cell_type": "markdown",
   "metadata": {
    "id": "NAygy1d00ngR"
   },
   "source": [
    "10\\. Tester l'algorithme  suffix tree sur vos données de chipSeq. Puis générér le LOGO du motif trouvé"
   ]
  },
  {
   "cell_type": "code",
   "execution_count": 10,
   "metadata": {
    "id": "kPIHUtnb0ngR"
   },
   "outputs": [],
   "source": [
    "def readFasta(genome):\n",
    "    sequence = []\n",
    "    file = open(genome, \"r\")\n",
    "    sequences = []\n",
    "    seq = \"\"\n",
    "    for s in file:\n",
    "        if s[0] != \">\":\n",
    "            seq += s.strip().upper()\n",
    "        else:\n",
    "            sequences.append(seq)\n",
    "            seq = \"\"\n",
    "    return sequences[1:]\n",
    "genome = \"Sequence_by_Peaks_4.fasta\"\n",
    "sequences = readFasta(genome)\n",
    "#print(sequences)"
   ]
  },
  {
   "cell_type": "code",
   "execution_count": 11,
   "metadata": {
    "id": "u3RGPJ240ngR"
   },
   "outputs": [],
   "source": [
    "st, st2 = construct_tree(sequences)"
   ]
  },
  {
   "cell_type": "code",
   "execution_count": 17,
   "metadata": {},
   "outputs": [
    {
     "name": "stdout",
     "output_type": "stream",
     "text": [
      "AAGACAAG\n",
      "{'AAGAAAAA': 9, 'AAAAAAAG': 8, 'AAGACTAA': 4, 'AAGATAAG': 3, 'AAGAGAAC': 3, 'AAGACCAC': 3, 'TAGAAAAG': 3, 'AAGACAGA': 3, 'AATACAAT': 3, 'GACACAAG': 2, 'AAGAACAG': 2, 'AAGAAAGG': 2, 'GAGACTAG': 2, 'AAGAAAAG': 2, 'AACACCAG': 2, 'AAGACTGG': 2, 'AAGTCATG': 2, 'ACGACAAT': 1, 'ATAACAAG': 1, 'AACACAAT': 1, 'AACAGAAG': 1, 'ACGACGAG': 1, 'ACTACAAG': 1, 'GCGACAAG': 1, 'AAGACGGG': 1, 'AAGATTAG': 1, 'AAGATCAG': 1, 'AATATAAG': 1}\n"
     ]
    }
   ],
   "source": [
    "randmotifs = generateRandomSequence(8)\n",
    "print(randmotifs)\n",
    "motif_occur_sorted = inexact_match([randmotifs], sequences, st2, 2)\n",
    "print(motif_occur_sorted)"
   ]
  },
  {
   "cell_type": "code",
   "execution_count": null,
   "metadata": {},
   "outputs": [],
   "source": []
  }
 ],
 "metadata": {
  "celltoolbar": "Raw Cell Format",
  "colab": {
   "provenance": []
  },
  "kernelspec": {
   "display_name": "Python 3 (ipykernel)",
   "language": "python",
   "name": "python3"
  },
  "language_info": {
   "codemirror_mode": {
    "name": "ipython",
    "version": 3
   },
   "file_extension": ".py",
   "mimetype": "text/x-python",
   "name": "python",
   "nbconvert_exporter": "python",
   "pygments_lexer": "ipython3",
   "version": "3.11.0"
  }
 },
 "nbformat": 4,
 "nbformat_minor": 1
}
