{
 "cells": [
  {
   "cell_type": "markdown",
   "metadata": {
    "id": "981-NdKA_huf"
   },
   "source": [
    "# TME 3.1 : Greedy Profile Motif Search \n",
    "\n",
    "Nom Etudiant 1: 28602815 Philippe TAN\n",
    "<br>\n",
    "Nom Etudiant 2: 28714617 Lasha GOGRITCHIANI\n",
    "\n",
    "## Recheche de pattern (motifs) en utilisant les algoritmes randomisés\n",
    "\n",
    "Les algorithmes randomisés prendre des décisions aléatoire plutôt que déterministes.\n",
    "l'algorithme s'exécute différemment à chaque fois. Ils sont couramment utilisés dans situations où aucun algorithme exact et rapide est connu. Nous allons d'abord implémenter l'algorithm Greedy Profile Motif Search.\n",
    "\n"
   ]
  },
  {
   "cell_type": "markdown",
   "metadata": {
    "id": "5z3a_1W0_huk"
   },
   "source": [
    "1\\. Nous allons réutiliser les fonctions du precedent pour générer `t` séquences artificielles de taille `n`, et implanter dans chaque séquence un motif de taille `k` à des positions aléatoires avec `v` substitutions choisies aléatoirement. Nous allons faire varier le motifs dans 50% de cas."
   ]
  },
  {
   "cell_type": "code",
   "execution_count": 1,
   "metadata": {
    "id": "6UbcF5N2_hul"
   },
   "outputs": [],
   "source": [
    "import random\n",
    "import numpy as np\n",
    "\n",
    "nuc = ('A', 'C', 'G', 'T')\n",
    "\n",
    "t=8 #taille de motif\n",
    "v=1 #nb de positions variable dans le motif\n",
    "k=8 #nb de sequences\n",
    "n=10 #longuer des sequence\n",
    "f= 0.5 #frequence de variation du motif.\n"
   ]
  },
  {
   "cell_type": "code",
   "execution_count": 2,
   "metadata": {
    "id": "IplKLaGL_hun"
   },
   "outputs": [
    {
     "name": "stdout",
     "output_type": "stream",
     "text": [
      "ggg\n",
      "AAATTGGT\n",
      "['aagttggtAG', 'aaattgggCA', 'AAATTGGTGC', 'AAATTGGTGC', 'aaattgatGT', 'aaatttgtCG', 'AAATTGGTCA', 'AAATTGGTCC']\n",
      "['AAGTTGGTAG', 'AAATTGGGCA', 'AAATTGGTGC', 'AAATTGGTGC', 'AAATTGATGT', 'AAATTTGTCG', 'AAATTGGTCA', 'AAATTGGTCC']\n"
     ]
    }
   ],
   "source": [
    "\n",
    "def generateRandomSequence(n, upper=True):\n",
    "    \"\"\"\n",
    "    Génère une séquence nucléotidique aléatoire \n",
    "    entrée n : longueur de la sequence\n",
    "    entrée upper : bool, si True les nucléotides seront en majuscule, False minuscule\n",
    "    sortie sequence : une séquence nucléotidique aléatoire \n",
    "    \"\"\"\n",
    "    sequence = \"\"\n",
    "\n",
    "    random.seed(None)\n",
    "    for i in range (0, n) :\n",
    "        sequence += random.choice(nuc)\n",
    "    \n",
    "    if upper :\n",
    "        sequence.lower()\n",
    "   \n",
    "    return sequence\n",
    "\n",
    "def modifierMotif(motif, nbpos,  upper=True):\n",
    "    \"\"\"\n",
    "    Modifie nbpos positions d'un motif aléatoirement \n",
    "    entrée motif: motif à modifier\n",
    "    entrée nbpos: nombre de positions\n",
    "    entrée upper : bool, si True les nucléotides modifiés seront majuscule, False minuscule\n",
    "    sortie motifM: motif modifié\n",
    "    \"\"\"\n",
    "    motifM = list(motif)\n",
    "    motifM = [nt.upper() for nt in motifM]\n",
    "    \n",
    "    randpos = 0\n",
    "    randpositions = set()\n",
    "    mutation = \"\"\n",
    "    \n",
    "    i = 0\n",
    "    while (i < nbpos):\n",
    "        randpos = random.randint(0, len(motifM) - 1)\n",
    "        if randpos not in randpositions :\n",
    "            while (mutation == motifM[randpos] or mutation == \"\"):\n",
    "                mutation = random.choice(nuc)\n",
    "            motifM[randpos] = mutation\n",
    "            randpositions.add(randpos)\n",
    "            mutation = \"\"\n",
    "            i += 1\n",
    "    if upper :\n",
    "        motifM = [nt.lower() for nt in motifM]\n",
    "    \n",
    "    return \"\".join(motifM)\n",
    "\n",
    "#tester la fonction modifierMotif\n",
    "print (modifierMotif(\"acg\", 2))\n",
    "\n",
    "def insertMotif(sequence, motif, position):\n",
    "    return sequence[:position] + motif + sequence[position:]\n",
    "\n",
    "def implantMotifVar(k, v, t, n, f):\n",
    "    \"\"\"\n",
    "    Génère des séquences aléatoires et les implante des motifs variables (un motif par séquence)\n",
    "    entrée k : nombre de séquences \n",
    "    entrée v: nombre de variations\n",
    "    entrée t: taille du motif\n",
    "    entrée n : longueur des séquences\n",
    "    entrée f : frequence de variation du motif.\n",
    "    sortie DNA : matrice de dimension txn avec les motifs implantés\n",
    "    REMARQUE : La taille totale des séquences plus motif doit être égal à t, pensez à générer de séquence aléatoire de taille t-k pour pouvoir implanter un motif de taille k\n",
    "    \"\"\"\n",
    "    #Création du motif de base\n",
    "    motif = generateRandomSequence(t, False)\n",
    "    print(motif)\n",
    "    sequences = []\n",
    "    \n",
    "    #Génère les séquences où implanter les motifs variables\n",
    "    sequences = [generateRandomSequence(n - t) for i in range(k)]\n",
    "\n",
    "    for i in range(k) :\n",
    "        #Variation du motif de v nucléotides\n",
    "        motifM = motif\n",
    "        if random.random() < f :\n",
    "            motifM = modifierMotif(motif, v)\n",
    "        #Position aléatoire dans les séquences où implanter le motif modifié\n",
    "        pos = random.randint(0, t - k)\n",
    "        sequences[i] = insertMotif(sequences[i], motifM, pos)\n",
    "\n",
    "    return sequences\n",
    "\n",
    "adn = implantMotifVar(k, v, t, n, f)\n",
    "print (adn)\n",
    "\n",
    "adn  = [s.upper() for s in adn]\n",
    "print (adn)"
   ]
  },
  {
   "cell_type": "markdown",
   "metadata": {
    "id": "NoPjFWpM_huq"
   },
   "source": [
    "2\\. Faire une fonction pour sélectionner des positions de départ aléatoirement `s = (s1, …,st)`.\n"
   ]
  },
  {
   "cell_type": "code",
   "execution_count": 3,
   "metadata": {
    "id": "WwUeYNeJ_hur"
   },
   "outputs": [
    {
     "name": "stdout",
     "output_type": "stream",
     "text": [
      "[2, 2, 2, 0, 0, 1, 0, 0]\n"
     ]
    }
   ],
   "source": [
    "#creating vector s\n",
    "#Get t random positions from 0 to n - k\n",
    "def generateRandomS(sequences, k):\n",
    "    \"\"\"\n",
    "    Génère un vecteur de position aléatoires\n",
    "    entrée sequences: matrice de dimension txn contenant les sequences\n",
    "    entrée k: taille du motif\n",
    "    sortie s: vecteur de position aléatoires, une position par séquence\n",
    "    REMARQUE les positions doivent être inférieur à n-k, ou n est la taille de sequence\n",
    "    \"\"\"\n",
    "    s = []\n",
    "    \n",
    "    t = len(sequences)\n",
    "    n = len(sequences[0])\n",
    "    \n",
    "    for i in range (t) :\n",
    "        r = random.randint(0, n - k)\n",
    "        s.append(r)\n",
    "\n",
    "    return s\n",
    "\n",
    "s = generateRandomS(adn, k)\n",
    "print (s)"
   ]
  },
  {
   "cell_type": "markdown",
   "metadata": {
    "id": "vwTv0oVD_hut"
   },
   "source": [
    "3\\. Extraire les motifs en utilisant le vecteur `s`, et construire un profile (matrice de fréquence). \n"
   ]
  },
  {
   "cell_type": "code",
   "execution_count": 4,
   "metadata": {
    "id": "GMC6y17y_hut"
   },
   "outputs": [
    {
     "name": "stdout",
     "output_type": "stream",
     "text": [
      "[2, 2, 2, 0, 0, 1, 0, 0] ['AAGTTGGTAG', 'AAATTGGGCA', 'AAATTGGTGC', 'AAATTGGTGC', 'AAATTGATGT', 'AAATTTGTCG', 'AAATTGGTCA', 'AAATTGGTCC'] 8\n",
      "['GTTGGTAG', 'ATTGGGCA', 'ATTGGTGC', 'AAATTGGT', 'AAATTGAT', 'AATTTGTC', 'AAATTGGT', 'AAATTGGT']\n",
      "[[7. 5. 4. 0. 0. 0. 2. 1.]\n",
      " [0. 0. 0. 0. 0. 0. 1. 2.]\n",
      " [1. 0. 0. 3. 3. 6. 4. 1.]\n",
      " [0. 3. 4. 5. 5. 2. 1. 4.]] \n",
      "\n"
     ]
    }
   ],
   "source": [
    "#extract sequences from seqs\n",
    "def extractSeqs(s, seqs, k):\n",
    "    \"\"\"\n",
    "    Extraire les motifs des séquences à l'aide de positions s\n",
    "    entrée s: vecteur contenant les positions de départs\n",
    "    entrée seqs: matrice de dimension txn contenant les séquences\n",
    "    entrée k: taille du motif\n",
    "    sortie motifs: liste de motifs de taille k extrait des séquences\n",
    "    \"\"\"\n",
    "    motifs = []\n",
    "    \n",
    "    t = len(seqs)\n",
    "    n = len(seqs[0])\n",
    "    \n",
    "    for i in range(t) :\n",
    "        if s[i] != -1:\n",
    "            motifs.append(seqs[i][s[i]: s[i] + k])\n",
    "        else :\n",
    "            print('s[', i, '] = -1. Aucun motif probable trouvé.')\n",
    "   \n",
    "    return motifs\n",
    "\n",
    "print(s, adn, k)\n",
    "motifs = extractSeqs(s, adn, k)\n",
    "print(motifs)\n",
    "\n",
    "\n",
    "#Construire un profile = matrice de fréquence\n",
    "def profile(motifs, k, nuc):\n",
    "    \"\"\"\n",
    "    Construire une matrice de fréquence de dimension k x |nuc|\n",
    "    entrée motifs: liste de motifs\n",
    "    entrée k: taille du motif\n",
    "    entrée nuc: alphabet\n",
    "    sortie MF: matrice de fréquence\n",
    "    \"\"\"\n",
    "    q = len(nuc)\n",
    "    PWM = np.zeros((q, k))\n",
    "    \n",
    "    for s in motifs :\n",
    "        for j in range(k) :\n",
    "            if len(s) < k :\n",
    "                continue\n",
    "            l = s[j]\n",
    "            if l == 'A':\n",
    "                PWM[0][j] += 1\n",
    "            if l == 'C':\n",
    "                PWM[1][j] += 1\n",
    "            if l == 'G':\n",
    "                PWM[2][j] += 1\n",
    "            if l == 'T':\n",
    "                PWM[3][j] += 1\n",
    "  \n",
    "    return PWM\n",
    "\n",
    "MF = profile(motifs, k, nuc)\n",
    "print(MF,\"\\n\")\n",
    "\n",
    "#motifs2 = ['AGGTT', 'CGGTT', 'TAGAG', 'TTCCT', 'TTCTA', 'CGTCG']\n",
    "#print(profile(motifs2, k, nuc))"
   ]
  },
  {
   "cell_type": "markdown",
   "metadata": {
    "id": "zIw6koU2_huu"
   },
   "source": [
    "4\\. Transformer la matrice de fréquence en PWM. Il faut diviser chaque élément par la somme de ses colonnes."
   ]
  },
  {
   "cell_type": "code",
   "execution_count": 5,
   "metadata": {
    "id": "wOH5mbkA_huv"
   },
   "outputs": [
    {
     "name": "stdout",
     "output_type": "stream",
     "text": [
      "[[0.88 0.62 0.5  0.   0.   0.   0.25 0.12]\n",
      " [0.   0.   0.   0.   0.   0.   0.12 0.25]\n",
      " [0.12 0.   0.   0.38 0.38 0.75 0.5  0.12]\n",
      " [0.   0.38 0.5  0.62 0.62 0.25 0.12 0.5 ]]\n"
     ]
    }
   ],
   "source": [
    "def generatePWM(MF):\n",
    "    \"\"\"\n",
    "    Transforme la matrice de fréquence en PWM\n",
    "    entrée MF: matrice de fréquence\n",
    "    sortie PWM: matrice de probabilité (poids positions)\n",
    "    \"\"\"\n",
    "    t = len(MF)\n",
    "    n = len(MF[0])\n",
    "    \n",
    "    PWM = np.zeros((t, n))\n",
    "    \n",
    "    for i in range(n) :\n",
    "        s = 0\n",
    "        for j in range(t) :\n",
    "            s += MF[j][i]\n",
    "        for j in range(t) :\n",
    "            PWM[j][i] = np.round(MF[j][i] / s, 2)\n",
    "    \n",
    "    return PWM\n",
    "  \n",
    "PWM = generatePWM(MF)\n",
    "print(PWM)"
   ]
  },
  {
   "cell_type": "markdown",
   "metadata": {
    "id": "ThOfxUGq_huw"
   },
   "source": [
    "5\\. Faire une fonction pour calculer la probabilité d'un motif de taille `k` selon une PWM.\n"
   ]
  },
  {
   "cell_type": "code",
   "execution_count": 6,
   "metadata": {
    "id": "ZUNbTtum_huw"
   },
   "outputs": [
    {
     "name": "stdout",
     "output_type": "stream",
     "text": [
      "0.0\n"
     ]
    }
   ],
   "source": [
    "def probability(PWM, motif):\n",
    "    \"\"\"\n",
    "    Calcul la probalité d'un motif selon PWM\n",
    "    entrée PWM: matrice de probabilité (poids positions)\n",
    "    entrée motif: motif\n",
    "    sortie prob: probalité Prob(motif|PWM)\n",
    "    \"\"\"\n",
    "    if len(motif) > len(PWM[0]):\n",
    "        print(\"La matrice de probabilité n'est pas assez grande.\")\n",
    "        return 0\n",
    "    prob = 1\n",
    "    lignes = {'A':0, 'C':1, 'G':2, 'T':3}\n",
    "    \n",
    "    for i, nuc in enumerate(motif) : \n",
    "        j = lignes[nuc]\n",
    "        prob *= PWM[j][i]\n",
    "        \n",
    "    return prob\n",
    "\n",
    "prob = probability(PWM, \"AAAGA\")\n",
    "print (prob)"
   ]
  },
  {
   "cell_type": "markdown",
   "metadata": {
    "id": "aqLjmxrx_hux"
   },
   "source": [
    "6\\. Faire une fonction pour calculer le pMostProbkmer d'une séquence, voir un exemple dans les slides de cours."
   ]
  },
  {
   "cell_type": "code",
   "execution_count": 7,
   "metadata": {
    "id": "-_GDK4mQ_huy"
   },
   "outputs": [
    {
     "name": "stdout",
     "output_type": "stream",
     "text": [
      "0\n",
      "['AAGTTGGTAG', 'AAATTGGGCA', 'AAATTGGTGC', 'AAATTGGTGC', 'AAATTGATGT', 'AAATTTGTCG', 'AAATTGGTCA', 'AAATTGGTCC']\n"
     ]
    }
   ],
   "source": [
    "def pMostProbkmer(PWM, k, sequence):\n",
    "    \"\"\"\n",
    "    calcul la position du k-mer le plus probable dans la séquence\n",
    "    entrée PWM: matrice de probabilité (poids positions)\n",
    "    entrée k: taille du motif\n",
    "    entrée sequence: séquence nucleotidique\n",
    "    sortie s: la position la plus probable \n",
    "    \"\"\"\n",
    "    maxProb = 0\n",
    "    s = 0 # position du k-mer le plus probable dans la sequence\n",
    "    \n",
    "    for i in range(len(sequence) - k + 1) :\n",
    "        motif = sequence[i:i + k]\n",
    "        prob = probability(PWM, motif)\n",
    "        if prob > maxProb :\n",
    "            maxProb = prob\n",
    "            s = i\n",
    "        i += 1\n",
    "    \n",
    "    return s\n",
    "s = pMostProbkmer(PWM, k, \"GCCGGATACT\")\n",
    "print (s)\n",
    "print(adn)"
   ]
  },
  {
   "cell_type": "markdown",
   "metadata": {
    "id": "QwXuMhNn_huy"
   },
   "source": [
    "7\\. Faire une fonction pour obtenir les nouvelles positions de départ `s = (s1, …,st)`, c’était à dire les positions qui contiens les k-mer le plus probables."
   ]
  },
  {
   "cell_type": "code",
   "execution_count": 8,
   "metadata": {
    "id": "G3neuRM9_huz"
   },
   "outputs": [
    {
     "name": "stdout",
     "output_type": "stream",
     "text": [
      "[2, 1, 0, 0, 0, 0, 0, 0]\n"
     ]
    }
   ],
   "source": [
    "def getNewS(PWM, k, sequences):\n",
    "    \"\"\"\n",
    "    Trouve les nouvelles positions des k-mer le plus probables\n",
    "    entrée PWM: matrice de probabilité (poids positions)\n",
    "    entrée k: taille du motif\n",
    "    entrée sequence: séquence nucleotidique\n",
    "    sortie s: vecteur avec les positions les plus problables\n",
    "    \"\"\"\n",
    "    s = []\n",
    "    \n",
    "    for seq in sequences :\n",
    "        s.append(pMostProbkmer(PWM, k, seq))\n",
    "   \n",
    "    return s\n",
    "\n",
    "ns = getNewS(PWM, k, adn)\n",
    "print (ns)"
   ]
  },
  {
   "cell_type": "markdown",
   "metadata": {
    "id": "WoETBPxq_huz"
   },
   "source": [
    "8\\. La condition d’arrêt de l'algorithme est le non changement de la matrice de fréquence d'une itération à l'autre, \n",
    "faire une fonction pour comparer deux matrices et détecter le changement. \n",
    "Faire aussi une fonction pour obtenir le score d'une matrice de fréquence : la somme de max de chaque colonne"
   ]
  },
  {
   "cell_type": "code",
   "execution_count": 9,
   "metadata": {
    "id": "NUDOYB6A_hu0"
   },
   "outputs": [
    {
     "name": "stdout",
     "output_type": "stream",
     "text": [
      "s : 0 \n",
      "ns : [2, 1, 0, 0, 0, 0, 0, 0]\n",
      "\n",
      "PWM et P2 différents : False\n",
      "PWM comparé lui-même : True \n",
      "\n",
      "getScore : 40.0\n"
     ]
    }
   ],
   "source": [
    "def changeProfile(P1, P2):\n",
    "    \"\"\"\n",
    "    Compare deux matrice\n",
    "    entrée P1: matrice de fréquence\n",
    "    entrée P2: matrice de fréquence\n",
    "    sortie: True si les matrices sont différents, False au contraire\n",
    "    \"\"\"\n",
    "    if len(P1) != len(P2) :\n",
    "        return False\n",
    "    if len(P1[0]) != len(P2[0]) :\n",
    "        return False\n",
    "    t = len(P1)\n",
    "    n = len(P1[0])\n",
    "    \n",
    "    for i in range(t) :\n",
    "        for j in range(n) :\n",
    "            if P1[i][j] != P2[i][j] :\n",
    "                return False\n",
    "    \n",
    "    return True\n",
    "\n",
    "def getScore(MF, k):\n",
    "    \"\"\"\n",
    "    Renvoie le score de MF, la somme des max de chaque colonne\n",
    "    entrée MF: matrice de fréquence\n",
    "    entrée k: taille du motif\n",
    "    sortie sc: score\n",
    "    \"\"\"\n",
    "    sc = 0\n",
    "    \n",
    "    t = len(MF)\n",
    "    n = len(MF[0])\n",
    "    \n",
    "    for i in range(n) :\n",
    "        m = 0\n",
    "        for j in range(t) :\n",
    "            val = MF[j][i]\n",
    "            if val > m :\n",
    "                m = val\n",
    "        sc += m\n",
    "    \n",
    "    return sc\n",
    "\n",
    "ns = getNewS(PWM, k, adn)\n",
    "print (\"s :\", s, \"\\nns :\", ns)\n",
    "\n",
    "P2 = [[0.67, 0.,   0.67], [0.,   0.33, 0.  ], [0.33, 0.33, 0], [0.,   0.33, 0.  ]] \n",
    "print(\"\\nPWM et P2 différents :\", changeProfile(PWM, P2))\n",
    "print(\"PWM comparé lui-même :\", changeProfile(PWM, PWM), \"\\n\")\n",
    "\n",
    "sc = getScore(MF, k)\n",
    "print (\"getScore :\", sc)\n"
   ]
  },
  {
   "cell_type": "markdown",
   "metadata": {
    "id": "QhO7GPfn_hu0"
   },
   "source": [
    "9\\. Implementer l'algorithme ``GreedyProfileMotifSearch`` en utilisant les fonctions precedentes. \n",
    "BONUS: Pour ameliorer la performance vous pouvez abandonner les positions qui génèrent des motifs peu complexes."
   ]
  },
  {
   "cell_type": "code",
   "execution_count": 10,
   "metadata": {
    "id": "s3wvHQUp_hu0"
   },
   "outputs": [
    {
     "name": "stdout",
     "output_type": "stream",
     "text": [
      "['AAGTTGGTAG', 'AAATTGGGCA', 'AAATTGGTGC', 'AAATTGGTGC', 'AAATTGATGT', 'AAATTTGTCG', 'AAATTGGTCA', 'AAATTGGTCC']\n",
      "38.0\n",
      "['GTTGGTAG', 'ATTGGGCA', 'ATTGGTGC', 'ATTGGTGC', 'AAATTGAT', 'ATTTGTCG', 'AATTGGTC', 'AAATTGGT']\n"
     ]
    }
   ],
   "source": [
    "def isLowComplexe(motif, m) :\n",
    "    \"\"\"\n",
    "    Vérifie si le motif doit être éliminé en raison de sa simplicité,\n",
    "    c'est-à-dire s'il a au moins m fois la même lettre ou s'il a deux lettres\n",
    "    consécutives répétées.\n",
    "    entrée : motif\n",
    "    sortie : True si le motif doit être éliminé, False sinon\n",
    "    \"\"\"   \n",
    "    \n",
    "    if len(set(motif)) == 1 and len(motif) >= m: # si le motif contient une lettre m fois\n",
    "        return True\n",
    "\n",
    "    if len(set(motif)) >= 2 and len(motif) >= m :\n",
    "        nuc = {'A':0, 'C':0, 'T':0, 'G':0}\n",
    "        pairs = set()\n",
    "        impairs = set()\n",
    "        current = \"\"\n",
    "        cpt = 0\n",
    "        \n",
    "        for i, letter in enumerate(motif) : #enumerate pour récupérer le nucléotide et son index\n",
    "            nuc[letter] += 1\n",
    "            \n",
    "            if i%2 == 0 : #si lettre en position paire, on ajoute dans l'ensemble \"pairs\"\n",
    "                pairs.add(motif[i])\n",
    "            else : #sinon \"impairs\"\n",
    "                impairs.add(motif[i])\n",
    "                \n",
    "        nbvalues = nuc.values()\n",
    "        for i in nbvalues : #si on a au moins m occurrence d'un des nucléotides, alors le motif est SIMPLE\n",
    "            if i >= m :\n",
    "                return True\n",
    "        if len(pairs) == 1 and len(impairs) == 1 : #si on a un pattern de deux lettres qui se répètent : SIMPLE\n",
    "            return True\n",
    "    \n",
    "    return False\n",
    "\n",
    "def GreedyProfileMotifSearch(sequences, k):\n",
    "    \"\"\"\n",
    "    Implémente l'algorithme GreedyProfileMotifSearch \n",
    "    entrée sequences: matrice de dimension txn contenant les séquences \n",
    "    entrée k : taille du motif \n",
    "    sortie s : vecteur de positions de départ ayant le meilleur motif \n",
    "    sortie bestScore : le score associé à s\n",
    "    \"\"\"\n",
    "    bestS = generateRandomS(sequences, k)\n",
    "    bestMotifs = extractSeqs(bestS, sequences, k)\n",
    "    bestProf = profile(bestMotifs, k, nuc)\n",
    "    bestScore = getScore(bestProf, k)\n",
    "    \n",
    "    threshold = k // 4\n",
    "    \n",
    "    motifFound = True\n",
    "    while motifFound:\n",
    "        motifFound = False\n",
    "        \n",
    "        prof = profile(bestMotifs, k, nuc)\n",
    "        PWM = generatePWM(prof)\n",
    "        \n",
    "        motifs = []  \n",
    "        for seq in sequences:\n",
    "            probkmer = pMostProbkmer(PWM, k, seq)\n",
    "            kmer = seq[probkmer : probkmer + k]\n",
    "            if not isLowComplexe(kmer, threshold):\n",
    "                motifs.append(kmer)\n",
    "            else:\n",
    "                motifs.append(None)\n",
    "        \n",
    "        if motifFound:\n",
    "            score = getScore(prof, k)\n",
    "            if score > bestScore:\n",
    "                bestS = motifs\n",
    "                bestMotifs = extractSeqs(bestS, sequences, k)\n",
    "                bestProf = prof\n",
    "                bestScore = score\n",
    "                motifFound = True\n",
    "    \n",
    "    s = [0] * len(sequences)\n",
    "    for i, motif in enumerate(bestMotifs):\n",
    "        pos = sequences[i].index(motif)\n",
    "        s[i] = pos\n",
    "    \n",
    "    return s, bestScore\n",
    "\n",
    "print (adn)\n",
    "s, bestScore = GreedyProfileMotifSearch(adn, k)\n",
    "motifs = extractSeqs(s, adn, k)\n",
    "print(bestScore)\n",
    "print (motifs)"
   ]
  },
  {
   "cell_type": "markdown",
   "metadata": {
    "id": "xvo0wA0R_hu1"
   },
   "source": [
    "10\\. Avez vous trouvez le motif implanté? Rexécuter l’algorithme plusieurs fois pour le trouver. "
   ]
  },
  {
   "cell_type": "markdown",
   "metadata": {
    "id": "tQw_6g6I_hu1"
   },
   "source": [
    "Reponse: GTT"
   ]
  },
  {
   "cell_type": "markdown",
   "metadata": {
    "id": "hFC52cFb_hu1"
   },
   "source": [
    "11\\. Vous avez certainement observer que l’algorithme ne produire pas toujours la même sortie et que les résultats dépendent de la sélection aléatoire des positions de départ `s`. Pour augmenter nous chances de retrouvez les bons motifs, nous allons implémenter une version itérative ``GreedyProfileMotifSearchIte`` \n",
    "qui a chaque fois sauvegarde `s` et le score du profile associé à `s`, après `I` itération, l’algorithme renvoie le vecteur `s` ayant le plus grand score."
   ]
  },
  {
   "cell_type": "code",
   "execution_count": 11,
   "metadata": {
    "id": "RN4HsjUX_hu2"
   },
   "outputs": [
    {
     "name": "stdout",
     "output_type": "stream",
     "text": [
      "s : [2, 2, 2, 2, 2, 1, 2, 2]\n",
      "consensus : {37.0: 'AAATTGGT', 47.0: 'ATTGGTGC', 41.0: 'AAATTGGT', 39.0: 'AAATTGAT', 43.0: 'AAATTGGT', 50.0: 'AAATTGGT', 44.0: 'AAATTGGT', 42.0: 'AAATTGGT', 48.0: 'AATTTGTC', 38.0: 'AAATTGGT', 45.0: 'AAATTGGT', 40.0: 'AAATTGGT', 46.0: 'AAATTGGT', 36.0: 'AAATTGGT'}\n"
     ]
    }
   ],
   "source": [
    "def GreedyProfileMotifSearchIte(sequences, k, It):\n",
    "    \"\"\"\n",
    "    Implémente l'algorithme GreedyProfileMotifSearch iteratif\n",
    "    entrée séquences: matrice de dimension txn contenant les séquences\n",
    "    entrée k: taille du motif \n",
    "    entrée It: nombre d'iterations\n",
    "    sortie positions: dictionnaire clé=score, valeur= vecteur s \n",
    "    sortie consensus: dictionnaire clé=score, valeur= sequence consensus du motif\n",
    "    \"\"\"\n",
    "    pos = {}\n",
    "    consensus = {}\n",
    "    for i in range(It):\n",
    "        s, score = GreedyProfileMotifSearch(sequences, k)\n",
    "        pos[score] = s\n",
    "        \n",
    "        motifs = extractSeqs(s, sequences, k)\n",
    "        prof = profile(motifs, k, nuc)\n",
    "        pwm = generatePWM(prof)\n",
    "        \n",
    "        maxProb = 0\n",
    "        bestMotif = \"\"\n",
    "        for i in motifs :\n",
    "            prob = probability(PWM, i)\n",
    "            if prob > maxProb :\n",
    "                maxProb = prob\n",
    "                bestMotif = i\n",
    "        \n",
    "        consensus[score] = bestMotif\n",
    "    #print(sequences)\n",
    "        \n",
    "    \n",
    "    max_key = max(pos, key=pos.get)\n",
    "    #motifs = extractSeqs(pos[max_key], sequences, k)\n",
    "    #print(motifs)\n",
    "    #print(max_key)\n",
    "    return pos[max_key], consensus\n",
    "\n",
    "\n",
    "s, consensus = GreedyProfileMotifSearchIte(adn, k, 50)\n",
    "\n",
    "print ('s :', s)\n",
    "print ('consensus :', consensus)"
   ]
  },
  {
   "cell_type": "code",
   "execution_count": 12,
   "metadata": {
    "id": "S7DtjmxjCyQ-"
   },
   "outputs": [
    {
     "name": "stdout",
     "output_type": "stream",
     "text": [
      "50.0 AAATTGGT\n",
      "48.0 AATTTGTC\n"
     ]
    }
   ],
   "source": [
    "#Affiche les sequence consensus de top motifs\n",
    "def printTopFMotifsScore(consensus, top):\n",
    "\n",
    "    motifsSort = sorted(consensus.keys())\n",
    "    motifsSort.reverse()\n",
    "    for i in range(top):\n",
    "      print (motifsSort[i], consensus[motifsSort[i]])\n",
    "\n",
    "printTopFMotifsScore(consensus, 2)\n",
    "\n",
    "\n"
   ]
  },
  {
   "cell_type": "markdown",
   "metadata": {
    "id": "js7TuAsB_hu2"
   },
   "source": [
    "12\\. Tester algorithme  ``GreedyProfileMotifSearchIte`` sur vos données de chipSeq. N'oubliez pas de chercher les motifs dans le brin complémentaire et faire un merge de résultats."
   ]
  },
  {
   "cell_type": "code",
   "execution_count": 13,
   "metadata": {
    "id": "8um7xWi4URGv"
   },
   "outputs": [],
   "source": [
    "\n",
    "def reverseComplement(seq):\n",
    "    seq_dict = {'A':'T','T':'A','G':'C','C':'G'}\n",
    "    return \"\".join([seq_dict[base] for base in reversed(seq)])"
   ]
  },
  {
   "cell_type": "code",
   "execution_count": 14,
   "metadata": {
    "id": "-M8y_sOS_hu3"
   },
   "outputs": [
    {
     "name": "stdout",
     "output_type": "stream",
     "text": [
      "CAGCTCTGGC 2929 8\n",
      "15362.0 ATTTTGGT\n",
      "15343.0 ATATTGGT\n",
      "15339.0 ATATTGGT\n",
      "15306.0 ATATTGGT\n",
      "15292.0 ATTTTGGT\n",
      "15277.0 ATTTTGGT\n",
      "15276.0 ATATTGGT\n",
      "15271.0 AAATGGGT\n",
      "15267.0 ATATTGGT\n",
      "15240.0 AATTTGAT\n"
     ]
    }
   ],
   "source": [
    "k=8\n",
    "\n",
    "def readFasta(genome, n):\n",
    "    sequence = []\n",
    "    file = open(genome, \"r\")\n",
    "    sequence = []\n",
    "    for s in file:\n",
    "        if s[0] != \">\":\n",
    "            sequence.append(s.strip().upper())\n",
    "    sequenceStr = \"\".join(sequence)\n",
    "    #sequence = [sequenceStr]\n",
    "    sequence = [sequenceStr[i:i+n] for i in range(0, len(sequenceStr), n)]\n",
    "    sequenceRet = [x for x in sequence if x]\n",
    "    return sequenceRet\n",
    "\n",
    "genome = \"Sequence_by_Peaks_4.fasta\"\n",
    "\n",
    "\n",
    "sequencesChip   = readFasta(genome, n)\n",
    "t = len(sequencesChip)\n",
    "print (sequencesChip[8], t, k)\n",
    "revSequences = [reverseComplement(m) for m in sequencesChip]\n",
    "\n",
    "sequencesChip = sequencesChip + revSequences\n",
    "sequencesRet = [x for x in sequencesChip if len(x) == n]\n",
    "#print(sequencesRet, len(sequencesRet))\n",
    "s, consensus = GreedyProfileMotifSearchIte(sequencesRet, k, 20)\n",
    "printTopFMotifsScore(consensus, 10)\n"
   ]
  },
  {
   "cell_type": "code",
   "execution_count": null,
   "metadata": {},
   "outputs": [],
   "source": []
  }
 ],
 "metadata": {
  "celltoolbar": "Raw Cell Format",
  "colab": {
   "provenance": []
  },
  "kernelspec": {
   "display_name": "Python 3 (ipykernel)",
   "language": "python",
   "name": "python3"
  },
  "language_info": {
   "codemirror_mode": {
    "name": "ipython",
    "version": 3
   },
   "file_extension": ".py",
   "mimetype": "text/x-python",
   "name": "python",
   "nbconvert_exporter": "python",
   "pygments_lexer": "ipython3",
   "version": "3.9.12"
  },
  "vscode": {
   "interpreter": {
    "hash": "c261aea317cc0286b3b3261fbba9abdec21eaa57589985bb7a274bf54d6cc0a7"
   }
  }
 },
 "nbformat": 4,
 "nbformat_minor": 4
}
