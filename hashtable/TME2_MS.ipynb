{
 "cells": [
  {
   "cell_type": "markdown",
   "metadata": {
    "id": "e6SSCja7My_c"
   },
   "source": [
    "Nom Etudiant 1: 28602815 Philippe TAN\n",
    "<br>\n",
    "Nom Etudiant 2: 28714617 Lasha GOGRITCHIANI"
   ]
  },
  {
   "cell_type": "markdown",
   "metadata": {
    "id": "Rx466dVIpn3_"
   },
   "source": [
    "# TME 2 : Median String\n",
    "\n",
    "\n",
    "## Partie A : Recheche de pattern (motifs) en permettant des variations\n",
    "\n",
    "Les motifs que nous cherchons dans les sequences d'ADN peuvent contenir quelques variations ou mutations. Nous allons developpé dans cet partie differents algoritmes pour la recherche de motifs variables. "
   ]
  },
  {
   "cell_type": "markdown",
   "metadata": {
    "id": "fdcJxBtVpn4F"
   },
   "source": [
    "1\\. Comme dans le TME precedent, nous alons d'abord générer des données atificielles pour pouvoir tester les algorithmes. Faire une fonction pour générer `t` séquences artificielles de taille `n`. Implantez dans chaque séquence un motif de taille `k` à des positions aléatoires avec `v` substitutions choisies aléatoirement."
   ]
  },
  {
   "cell_type": "code",
   "execution_count": 1,
   "metadata": {
    "id": "LSz7T4a3pn4G"
   },
   "outputs": [
    {
     "name": "stdout",
     "output_type": "stream",
     "text": [
      "CTG\n",
      "['TCAGTATCAC', 'GTAATCAGCC', 'ATTGGTTCAC']\n"
     ]
    }
   ],
   "source": [
    "import random\n",
    "\n",
    "nuc = ('A', 'C', 'G', 'T')\n",
    "\n",
    "k=4 #taille de motif\n",
    "v=1 #nb de positions variable dans le motif\n",
    "n=3 #nb de sequences\n",
    "t=10 #longuer des sequence\n",
    "\n",
    "def insertMotif(sequence, motif, position):\n",
    "    return sequence[:position] + motif + sequence[position:]\n",
    "\n",
    "def generateRandomSequence(n:int, upper=False):\n",
    "    \"\"\"\n",
    "    Génère une séquence nucléotidique aléatoire \n",
    "    entrée n : longueur de la sequence\n",
    "    entrée upper : bool, si True les nucléotides seront minuscule, False majuscule\n",
    "    sortie sequence : une séquence nucléotidique aléatoire \n",
    "    \"\"\"\n",
    "    sequence = \"\"\n",
    "    \n",
    "    random.seed(None)\n",
    "    for i in range (0, n) :\n",
    "        sequence += random.choice(nuc)\n",
    "    \n",
    "    if upper :\n",
    "        sequence.lower()\n",
    "        \n",
    "    return sequence\n",
    "\n",
    "def modifMotif(motif:str, nbpos:int,  upper=False):\n",
    "    \"\"\"\n",
    "    Modifie nbpos positions d'un motif aléatoirement \n",
    "    entrée motif: motif à modifier\n",
    "    entrée nbpos: nombre de positions\n",
    "    entrée upper : bool, si True les nucléotides modifiés seront minuscule, False majuscule\n",
    "    sortie motifM: motif modifié\n",
    "    \"\"\"\n",
    "    motifM = list(motif)\n",
    "    motifM = [nt.upper() for nt in motifM]\n",
    "    \n",
    "    randpos = 0\n",
    "    randpositions = set()\n",
    "    mutation = \"\"\n",
    "    \n",
    "    i = 0\n",
    "    while (i < nbpos):\n",
    "        randpos = random.randint(0, len(motifM) - 1)\n",
    "        if randpos not in randpositions :\n",
    "            while (mutation == motifM[randpos] or mutation == \"\"):\n",
    "                mutation = random.choice(nuc)\n",
    "            motifM[randpos] = mutation\n",
    "            randpositions.add(randpos)\n",
    "            mutation = \"\"\n",
    "            i += 1\n",
    "    if upper :\n",
    "        motifM = [nt.lower() for nt in motifM]\n",
    "        \n",
    "    return \"\".join(motifM)\n",
    "\n",
    "#tester modifMotif\n",
    "print (modifMotif(\"acg\", 2))\n",
    "\n",
    "\n",
    "def implantMotifVar(k, v, t, n):\n",
    "    \"\"\"\n",
    "    Génère des séquences aléatoires et les implante des motifs variables (un motif par séquence)\n",
    "    entrée k: taille du motif\n",
    "    entrée v: nombre de variations\n",
    "    entrée t : longueur des séquences\n",
    "    entrée n : nb de séquences à modifier\n",
    "    sortie DNA : matrice de dimension txn avec les motifs implantés\n",
    "    REMARQUE : La taille totale des séquences plus motif doit être égal à t, pensez à générer de séquence aléatoire de taille t-k pour pouvoir implanter un motif de taille k\n",
    "    \"\"\"\n",
    "    #Génère les séquences où implanter les motifs variables\n",
    "    sequences = [generateRandomSequence(t - k) for i in range(n)]\n",
    "    #Création du motif de base\n",
    "    motif = generateRandomSequence(k)\n",
    "    for i in range(n) :\n",
    "        #Variation du motif de v nucléotides\n",
    "        motifM = modifMotif(motif, v)\n",
    "        #Position aléatoire dans les séquences où implanter le motif modifié\n",
    "        pos = random.randint(0, t - k)\n",
    "        sequences[i] = insertMotif(sequences[i], motifM, pos)\n",
    "    \n",
    "    return sequences\n",
    "\n",
    "adn = implantMotifVar(k, v, t, n)\n",
    "print (adn)\n"
   ]
  },
  {
   "cell_type": "markdown",
   "metadata": {
    "id": "G0AARLzmpn4I"
   },
   "source": [
    "2\\. Visualisation de motifs. Nous pouvons visualiser les motifs à l'aide des outils de LOGO https://weblogo.berkeley.edu/logo.cgi. Executer votre fonction de generation de motif variable, extraire les motifs et visulise-le à l'aide de webLogo. Utiliser les parametre ci-dessous.\n"
   ]
  },
  {
   "cell_type": "code",
   "execution_count": 89,
   "metadata": {
    "id": "TYCLBSw8pn4J"
   },
   "outputs": [
    {
     "name": "stdout",
     "output_type": "stream",
     "text": [
      "['CACCGTATTT', 'TCAGGGTATA', 'GTACGGTAGA', 'GTCGGTATAC', 'TAAGGGTAAG', 'TCAGGGTGTG', 'TAAGATATGC', 'AGGATATGAC', 'ACCGTATCTG', 'AACAGTAGGT']\n"
     ]
    }
   ],
   "source": [
    "k=8 #taille de motif\n",
    "v=2 #nb de positions variable dans le motif\n",
    "t=10 #nb de sequences\n",
    "n=10 #longuer des sequence\n",
    "\n",
    "adn = implantMotifVar(k, v, t, n)\n",
    "print (adn)"
   ]
  },
  {
   "cell_type": "markdown",
   "metadata": {
    "id": "LhfgfAkipn4Q"
   },
   "source": [
    "3\\. Implémentez l'algorithme _\"Median String Search\"_ pour chercher des motifs de taille variable. Tester le sur les jeux de données gnerer precedement. Vous devez éliminer les motifs peu complexe pour éviter les calculs inutiles. Pensez à eliminer tous les motifs ayant une formation diferents de motifs attendues, par exemple, les motifs ayant deux base repeté comme ACACACAC, etc.  "
   ]
  },
  {
   "cell_type": "code",
   "execution_count": 44,
   "metadata": {
    "id": "oq0K6y6rpn4Q"
   },
   "outputs": [
    {
     "name": "stdout",
     "output_type": "stream",
     "text": [
      "65536\n",
      "36120\n",
      "AAACCCGG\n"
     ]
    }
   ],
   "source": [
    "from itertools import product\n",
    "\n",
    "def isLowComplexe(motif, m) :\n",
    "    \"\"\"\n",
    "    Vérifie si le motif doit être éliminé en raison de sa simplicité,\n",
    "    c'est-à-dire s'il a au moins m fois la même lettre ou s'il a deux lettres\n",
    "    consécutives répétées.\n",
    "    entrée : motif\n",
    "    sortie : True si le motif doit être éliminé, False sinon\n",
    "    \"\"\"   \n",
    "    \n",
    "    if len(set(motif)) == 1 and len(motif) >= m: # si le motif contient une lettre m fois\n",
    "        return True\n",
    "\n",
    "    if len(set(motif)) >= 2 and len(motif) >= m :\n",
    "        nuc = {'A':0, 'C':0, 'T':0, 'G':0}\n",
    "        pairs = set()\n",
    "        impairs = set()\n",
    "        current = \"\"\n",
    "        cpt = 0\n",
    "        \n",
    "        for i, letter in enumerate(motif) : #enumerate pour récupérer le nucléotide et son index\n",
    "            nuc[letter] += 1\n",
    "            \n",
    "            if i%2 == 0 : #si lettre en position paire, on ajoute dans l'ensemble \"pairs\"\n",
    "                pairs.add(motif[i])\n",
    "            else : #sinon \"impairs\"\n",
    "                impairs.add(motif[i])\n",
    "                \n",
    "        nbvalues = nuc.values()\n",
    "        for i in nbvalues : #si on a au moins m occurrence d'un des nucléotides, alors le motif est SIMPLE\n",
    "            if i >= m :\n",
    "                return True\n",
    "        if len(pairs) == 1 and len(impairs) == 1 : #si on a un pattern de deux lettres qui se répètent : SIMPLE\n",
    "            return True\n",
    "    \n",
    "    return False\n",
    "\n",
    "\n",
    "def removeLowComplexe(motifs, m):\n",
    "    \"\"\"\n",
    "    Enlève les motifs peu complexes ayant \n",
    "    entrée motifs: dictionnaire de motifs, clé=motif, valeur = fréquence d'observation\n",
    "    sortie motifsClean: dictionnaire de motifs sans les motifs peu complexe.\n",
    "    \"\"\"\n",
    "    \n",
    "    motifsClean = []\n",
    "    for motif in motifs :\n",
    "        if isLowComplexe(motif, m) : # on vérifie si le motif est lowComplexe, si oui on passe au suivant\n",
    "            continue \n",
    "        else : # sinon on l'ajoute dans la nouvelle dicionnaire\n",
    "            motifsClean.append(motif)\n",
    "        \n",
    "    return motifsClean\n",
    "\n",
    "\n",
    "def kmerList(kmers) :\n",
    "    \n",
    "    sequences = []\n",
    "    for i in kmers:\n",
    "        sequences.append(\"\".join(i))\n",
    "    return sequences\n",
    "    \n",
    "                \n",
    "#Genere tous les K-mers de taille K ayant de AAA... à TTT...\n",
    "allkmers = product(nuc, repeat=k)\n",
    "kmers = kmerList(allkmers)\n",
    "\n",
    "\n",
    "print (len(kmers))\n",
    "kmersValid = removeLowComplexe(kmers, 4)\n",
    "print (len(kmersValid))\n",
    "print (kmersValid[0])\n",
    "\n"
   ]
  },
  {
   "cell_type": "code",
   "execution_count": 110,
   "metadata": {
    "id": "e5biEcQGpn4R"
   },
   "outputs": [
    {
     "name": "stdout",
     "output_type": "stream",
     "text": [
      "Meilleur motif : GTGTACTC et meilleur distance:  20\n"
     ]
    }
   ],
   "source": [
    "def hamdist(str1:str, str2:str):\n",
    "    \"\"\"\n",
    "    Calcul la distance de hamming entre deux chaînes de caractères\n",
    "    entrée str1: chaîne de caractères\n",
    "    entrée str2: chaîne de caractères\n",
    "    sortie distance: distance de hamming\n",
    "    \"\"\"\n",
    "    diffs = 0\n",
    "    \n",
    "    if len(str1) != len(str2) :\n",
    "        raise ValueError(\"Les deux chaînes de caractères n'ont pas la même longueur\")\n",
    "\n",
    "    for i in range(len(str1)) :\n",
    "        if str1[i] != str2[i] :\n",
    "            diffs += 1\n",
    "    \n",
    "    return diffs\n",
    "\n",
    "\n",
    "def totalDistance(motif:str, sequences, k):\n",
    "    \"\"\"\n",
    "    Calcul la totalDistance\n",
    "    entrée motif: sequence consensus\n",
    "    entrée sequences: chaîne de caractères\n",
    "    entrée k: taille du motif \n",
    "    entrée sequences: matrice de dimension txn contenant les séquences\n",
    "    sortie totalDistance: somme de distance de hamming minimal\n",
    "    \"\"\"\n",
    "    td = 0\n",
    "    for seq in sequences :\n",
    "        min_hamdist = 1000\n",
    "        for i in range(len(seq) - k + 1) :\n",
    "            subseq = seq[i : i + k]\n",
    "            hammingdist = hamdist(motif, subseq)\n",
    "            if hammingdist < min_hamdist :\n",
    "                min_hamdist = hammingdist\n",
    "        td += min_hamdist\n",
    "    return td\n",
    "\n",
    "\n",
    "def MedianStringSearch(allkmers, sequences, k):\n",
    "    \"\"\"\n",
    "    Implement l'algorithme MedianStringSearch\n",
    "    entrée allkmers: liste de K-mers valides\n",
    "    entrée sequences: matrice de dimension txn contenant les séquences\n",
    "    entrée k: taille du motif \n",
    "    sortie bestMotif: le motif que minimise les distances\n",
    "    sortie bestDistance: la distance minimal\n",
    "    sortie motifDist: un dictionnaire contenant les motifs et leurs distances\n",
    "    \"\"\"\n",
    "    bestDistance = 999999\n",
    "    bestMotif = \"\"\n",
    "    motifDist = {}\n",
    "    count = 0\n",
    "    for kmer in allkmers:\n",
    "        td = totalDistance(kmer, sequences, k)\n",
    "        motifDist[kmer] = td\n",
    "        if td < bestDistance :\n",
    "            bestDistance = td\n",
    "            bestMotif = kmer\n",
    "    \n",
    "    return bestMotif, bestDistance, motifDist\n",
    "\n",
    "bestMotif, bestDistance, motifDist = MedianStringSearch(kmersValid, adn, 8)\n",
    "print(\"Meilleur motif :\", bestMotif, \"et meilleur distance: \", bestDistance)\n",
    "#print(motifDist)\n",
    "#print(len(kmersValid))\n",
    "#print(len(adn))"
   ]
  },
  {
   "cell_type": "code",
   "execution_count": 109,
   "metadata": {
    "id": "8cV411yOpn4R"
   },
   "outputs": [
    {
     "name": "stdout",
     "output_type": "stream",
     "text": [
      "Meilleur motif : GAGTACAC et meilleur distance:  20\n"
     ]
    }
   ],
   "source": [
    "#Apliquez l'algoritme MedianStringSearch sur les sequences du brin complementaire\n",
    "\n",
    "def reverseComplement(seq):\n",
    "    seq_dict = {'A':'T','T':'A','G':'C','C':'G'}\n",
    "    return \"\".join([seq_dict[base] for base in reversed(seq)])\n",
    "\n",
    "def listComplement(seq) :\n",
    "    return [reverseComplement(x) for x in seq]\n",
    "\n",
    "bestMotif, bestDistance, motifDist = MedianStringSearch(kmersValid, listComplement(adn), 8)\n",
    "print(\"Meilleur motif :\", bestMotif, \"et meilleur distance: \", bestDistance)"
   ]
  },
  {
   "cell_type": "markdown",
   "metadata": {
    "id": "tgUYBJ0yQ3Dg"
   },
   "source": [
    "## Partie B : Recherche de motifs variable sur vos données"
   ]
  },
  {
   "cell_type": "markdown",
   "metadata": {
    "id": "I1zHn6NSQ2Xy"
   },
   "source": [
    "Chercher sur le fichier \"Sequence_by_Peaks_G*.fasta\" contiens les regions de peak trouvé par ChipSeq, qui contient probablement le Facteur de Transcription que nous cherchons. Apliquer l'alogorithm Median Sting pour chercher les motifs dans votre fichier \"Sequence_by_Peaks_G*. Il faut bien evidement enlever les motifs peu complexe."
   ]
  },
  {
   "cell_type": "code",
   "execution_count": 112,
   "metadata": {
    "id": "A6KINeGuREqA"
   },
   "outputs": [],
   "source": [
    "import time\n",
    "\n",
    "k=7\n",
    "feq=10\n",
    "top= 50\n",
    "genome = \"Sequence_by_Peaks_4.fasta\"\n",
    "\n",
    "\n",
    "\n",
    "def readFasta(fastaFileName):\n",
    "    \"\"\"\n",
    "    Read a fasta file\n",
    "    entrée fastaFileName: nom du fichier fasta\n",
    "    sortie sequences: liste contenant toutes les sequences du fichier\n",
    "    \"\"\"\n",
    "    sequence = []\n",
    "    file = open(genome, \"r\")\n",
    "    sequence = []\n",
    "    for s in file:\n",
    "        if s[0] != \">\":\n",
    "            sequence.append(s.strip().upper())\n",
    "\n",
    "    return sequence\n",
    "\n",
    "sequences   = readFasta(genome)\n",
    "#print(sequences)"
   ]
  },
  {
   "cell_type": "code",
   "execution_count": 120,
   "metadata": {
    "id": "Y7W7nNWvRn_R"
   },
   "outputs": [
    {
     "name": "stdout",
     "output_type": "stream",
     "text": [
      "Meilleur motif : ATGATGC et meilleur distance:  3\n"
     ]
    }
   ],
   "source": [
    "allkmers = product(nuc, repeat=k)\n",
    "kmers = kmerList(allkmers)\n",
    "kmersValid = removeLowComplexe(kmers, 3)\n",
    "\n",
    "bestMotif, bestDistance, motifDist = MedianStringSearch(kmersValid, sequences[0:3], k)\n",
    "print(\"Meilleur motif :\", bestMotif, \"et meilleur distance: \", bestDistance)"
   ]
  },
  {
   "cell_type": "code",
   "execution_count": null,
   "metadata": {},
   "outputs": [],
   "source": []
  }
 ],
 "metadata": {
  "colab": {
   "provenance": []
  },
  "kernelspec": {
   "display_name": "Python 3 (ipykernel)",
   "language": "python",
   "name": "python3"
  },
  "language_info": {
   "codemirror_mode": {
    "name": "ipython",
    "version": 3
   },
   "file_extension": ".py",
   "mimetype": "text/x-python",
   "name": "python",
   "nbconvert_exporter": "python",
   "pygments_lexer": "ipython3",
   "version": "3.9.6"
  }
 },
 "nbformat": 4,
 "nbformat_minor": 1
}
